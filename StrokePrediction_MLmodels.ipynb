{
  "cells": [
    {
      "cell_type": "markdown",
      "id": "6f57e4a7",
      "metadata": {
        "_kg_hide-input": false,
        "_kg_hide-output": false,
        "papermill": {
          "duration": 0.051934,
          "end_time": "2022-02-18T14:06:22.588249",
          "exception": false,
          "start_time": "2022-02-18T14:06:22.536315",
          "status": "completed"
        },
        "tags": [],
        "id": "6f57e4a7"
      },
      "source": [
        "# Introduction"
      ]
    },
    {
      "cell_type": "markdown",
      "id": "5275e463",
      "metadata": {
        "papermill": {
          "duration": 0.051841,
          "end_time": "2022-02-18T14:06:22.692260",
          "exception": false,
          "start_time": "2022-02-18T14:06:22.640419",
          "status": "completed"
        },
        "tags": [],
        "id": "5275e463"
      },
      "source": [
        "<img src= \"https://i0.wp.com/post.healthline.com/wp-content/uploads/2021/11/1672630-Everything-You-Need-to-Know-About-Stroke_1296x1059-1.jpg?w=1155&h=2223\" width=\"450\" height=\"450\" align=\"center\">"
      ]
    },
    {
      "cell_type": "markdown",
      "id": "51a7eee8",
      "metadata": {
        "papermill": {
          "duration": 0.051725,
          "end_time": "2022-02-18T14:06:22.796017",
          "exception": false,
          "start_time": "2022-02-18T14:06:22.744292",
          "status": "completed"
        },
        "tags": [],
        "id": "51a7eee8"
      },
      "source": [
        "<span style=\"font-family: Consolas;\"> A stroke occurs when a blood vessel in the brain ruptures and bleeds, or when there's a blockage in the blood supply to the brain. The rupture or blockage prevents blood and oxygen from reaching the brain's tissues.</span>\n",
        "\n",
        "<span style=\"font-family: Consolas;\"><br>Every 4 minutes, someone dies of stroke. Every year, more than 795,000 people in the United States alone have a stroke. About 610,000 of these are first or new strokes. About 185,000 strokes—nearly 1 of 4—are in people who have had a previous stroke.<br> According to the World Health Organization (WHO) stroke is the 2nd leading cause of death globally, responsible for approximately 11% of total deaths.</span>\n",
        "\n"
      ]
    },
    {
      "cell_type": "markdown",
      "id": "14ff13d6",
      "metadata": {
        "papermill": {
          "duration": 0.051513,
          "end_time": "2022-02-18T14:06:22.899239",
          "exception": false,
          "start_time": "2022-02-18T14:06:22.847726",
          "status": "completed"
        },
        "tags": [],
        "id": "14ff13d6"
      },
      "source": [
        "#### Importing libraries and dataset"
      ]
    },
    {
      "cell_type": "code",
      "execution_count": 2,
      "id": "d012f0b3",
      "metadata": {
        "execution": {
          "iopub.execute_input": "2022-02-18T14:06:23.005861Z",
          "iopub.status.busy": "2022-02-18T14:06:23.005192Z",
          "iopub.status.idle": "2022-02-18T14:06:25.487191Z",
          "shell.execute_reply": "2022-02-18T14:06:25.486521Z",
          "shell.execute_reply.started": "2022-02-18T13:40:18.833824Z"
        },
        "papermill": {
          "duration": 2.536206,
          "end_time": "2022-02-18T14:06:25.487348",
          "exception": false,
          "start_time": "2022-02-18T14:06:22.951142",
          "status": "completed"
        },
        "tags": [],
        "id": "d012f0b3"
      },
      "outputs": [],
      "source": [
        "import seaborn as sns\n",
        "import matplotlib.pyplot as plt\n",
        "import warnings\n",
        "import numpy as np \n",
        "import pandas as pd \n",
        "from sklearn.preprocessing import LabelEncoder\n",
        "from sklearn.preprocessing import StandardScaler\n",
        "from imblearn.over_sampling import SMOTE\n",
        "from sklearn.model_selection import train_test_split\n",
        "from sklearn.linear_model import LogisticRegression\n",
        "from sklearn.ensemble import RandomForestClassifier\n",
        "from sklearn.tree import DecisionTreeClassifier\n",
        "from sklearn.metrics import accuracy_score, f1_score\n",
        "from xgboost import XGBClassifier\n",
        "from sklearn.neighbors import KNeighborsClassifier\n",
        "from sklearn.tree import DecisionTreeClassifier\n",
        "from lightgbm import LGBMClassifier\n",
        "from sklearn.svm import SVC\n",
        "sns.set_style('darkgrid')\n",
        "warnings.filterwarnings('ignore')\n"
      ]
    },
    {
      "cell_type": "code",
      "source": [
        "from google.colab import drive\n",
        "drive.mount('/content/drive')"
      ],
      "metadata": {
        "colab": {
          "base_uri": "https://localhost:8080/"
        },
        "id": "q_Jh7Whg0TLz",
        "outputId": "a7856650-5230-430d-b02f-793478bc7b70"
      },
      "id": "q_Jh7Whg0TLz",
      "execution_count": 1,
      "outputs": [
        {
          "output_type": "stream",
          "name": "stdout",
          "text": [
            "Mounted at /content/drive\n"
          ]
        }
      ]
    },
    {
      "cell_type": "code",
      "execution_count": 4,
      "id": "bcf8fe33",
      "metadata": {
        "execution": {
          "iopub.execute_input": "2022-02-18T14:06:25.598727Z",
          "iopub.status.busy": "2022-02-18T14:06:25.598044Z",
          "iopub.status.idle": "2022-02-18T14:06:25.621663Z",
          "shell.execute_reply": "2022-02-18T14:06:25.622275Z",
          "shell.execute_reply.started": "2022-02-18T13:40:21.726073Z"
        },
        "papermill": {
          "duration": 0.081975,
          "end_time": "2022-02-18T14:06:25.622465",
          "exception": false,
          "start_time": "2022-02-18T14:06:25.540490",
          "status": "completed"
        },
        "tags": [],
        "id": "bcf8fe33"
      },
      "outputs": [],
      "source": [
        "df = pd.read_csv('/content/drive/MyDrive/healthcare-dataset-stroke-data.csv')"
      ]
    },
    {
      "cell_type": "markdown",
      "id": "6ddb35f6",
      "metadata": {
        "papermill": {
          "duration": 0.052307,
          "end_time": "2022-02-18T14:06:25.727502",
          "exception": false,
          "start_time": "2022-02-18T14:06:25.675195",
          "status": "completed"
        },
        "tags": [],
        "id": "6ddb35f6"
      },
      "source": [
        "#### Composition of the dataset "
      ]
    },
    {
      "cell_type": "code",
      "execution_count": 5,
      "id": "3571478f",
      "metadata": {
        "execution": {
          "iopub.execute_input": "2022-02-18T14:06:25.838809Z",
          "iopub.status.busy": "2022-02-18T14:06:25.838135Z",
          "iopub.status.idle": "2022-02-18T14:06:25.841287Z",
          "shell.execute_reply": "2022-02-18T14:06:25.840759Z",
          "shell.execute_reply.started": "2022-02-18T13:40:21.758614Z"
        },
        "papermill": {
          "duration": 0.061054,
          "end_time": "2022-02-18T14:06:25.841428",
          "exception": false,
          "start_time": "2022-02-18T14:06:25.780374",
          "status": "completed"
        },
        "tags": [],
        "colab": {
          "base_uri": "https://localhost:8080/"
        },
        "id": "3571478f",
        "outputId": "eb7be4e9-a234-4dff-9423-a9f40c82e266"
      },
      "outputs": [
        {
          "output_type": "execute_result",
          "data": {
            "text/plain": [
              "(5110, 12)"
            ]
          },
          "metadata": {},
          "execution_count": 5
        }
      ],
      "source": [
        "df.shape"
      ]
    },
    {
      "cell_type": "code",
      "execution_count": 6,
      "id": "0f9cea01",
      "metadata": {
        "execution": {
          "iopub.execute_input": "2022-02-18T14:06:25.949907Z",
          "iopub.status.busy": "2022-02-18T14:06:25.949250Z",
          "iopub.status.idle": "2022-02-18T14:06:25.970178Z",
          "shell.execute_reply": "2022-02-18T14:06:25.970728Z",
          "shell.execute_reply.started": "2022-02-18T13:40:21.766878Z"
        },
        "papermill": {
          "duration": 0.076814,
          "end_time": "2022-02-18T14:06:25.970933",
          "exception": false,
          "start_time": "2022-02-18T14:06:25.894119",
          "status": "completed"
        },
        "tags": [],
        "colab": {
          "base_uri": "https://localhost:8080/",
          "height": 284
        },
        "id": "0f9cea01",
        "outputId": "f0d0556d-48d0-4ce3-96e7-bcfa4d84e8f5"
      },
      "outputs": [
        {
          "output_type": "execute_result",
          "data": {
            "text/plain": [
              "      id  gender   age  hypertension  heart_disease ever_married  \\\n",
              "0   9046    Male  67.0             0              1          Yes   \n",
              "1  51676  Female  61.0             0              0          Yes   \n",
              "2  31112    Male  80.0             0              1          Yes   \n",
              "3  60182  Female  49.0             0              0          Yes   \n",
              "4   1665  Female  79.0             1              0          Yes   \n",
              "\n",
              "       work_type Residence_type  avg_glucose_level   bmi   smoking_status  \\\n",
              "0        Private          Urban             228.69  36.6  formerly smoked   \n",
              "1  Self-employed          Rural             202.21   NaN     never smoked   \n",
              "2        Private          Rural             105.92  32.5     never smoked   \n",
              "3        Private          Urban             171.23  34.4           smokes   \n",
              "4  Self-employed          Rural             174.12  24.0     never smoked   \n",
              "\n",
              "   stroke  \n",
              "0       1  \n",
              "1       1  \n",
              "2       1  \n",
              "3       1  \n",
              "4       1  "
            ],
            "text/html": [
              "\n",
              "  <div id=\"df-72de49de-973f-4580-943e-4772631e78de\">\n",
              "    <div class=\"colab-df-container\">\n",
              "      <div>\n",
              "<style scoped>\n",
              "    .dataframe tbody tr th:only-of-type {\n",
              "        vertical-align: middle;\n",
              "    }\n",
              "\n",
              "    .dataframe tbody tr th {\n",
              "        vertical-align: top;\n",
              "    }\n",
              "\n",
              "    .dataframe thead th {\n",
              "        text-align: right;\n",
              "    }\n",
              "</style>\n",
              "<table border=\"1\" class=\"dataframe\">\n",
              "  <thead>\n",
              "    <tr style=\"text-align: right;\">\n",
              "      <th></th>\n",
              "      <th>id</th>\n",
              "      <th>gender</th>\n",
              "      <th>age</th>\n",
              "      <th>hypertension</th>\n",
              "      <th>heart_disease</th>\n",
              "      <th>ever_married</th>\n",
              "      <th>work_type</th>\n",
              "      <th>Residence_type</th>\n",
              "      <th>avg_glucose_level</th>\n",
              "      <th>bmi</th>\n",
              "      <th>smoking_status</th>\n",
              "      <th>stroke</th>\n",
              "    </tr>\n",
              "  </thead>\n",
              "  <tbody>\n",
              "    <tr>\n",
              "      <th>0</th>\n",
              "      <td>9046</td>\n",
              "      <td>Male</td>\n",
              "      <td>67.0</td>\n",
              "      <td>0</td>\n",
              "      <td>1</td>\n",
              "      <td>Yes</td>\n",
              "      <td>Private</td>\n",
              "      <td>Urban</td>\n",
              "      <td>228.69</td>\n",
              "      <td>36.6</td>\n",
              "      <td>formerly smoked</td>\n",
              "      <td>1</td>\n",
              "    </tr>\n",
              "    <tr>\n",
              "      <th>1</th>\n",
              "      <td>51676</td>\n",
              "      <td>Female</td>\n",
              "      <td>61.0</td>\n",
              "      <td>0</td>\n",
              "      <td>0</td>\n",
              "      <td>Yes</td>\n",
              "      <td>Self-employed</td>\n",
              "      <td>Rural</td>\n",
              "      <td>202.21</td>\n",
              "      <td>NaN</td>\n",
              "      <td>never smoked</td>\n",
              "      <td>1</td>\n",
              "    </tr>\n",
              "    <tr>\n",
              "      <th>2</th>\n",
              "      <td>31112</td>\n",
              "      <td>Male</td>\n",
              "      <td>80.0</td>\n",
              "      <td>0</td>\n",
              "      <td>1</td>\n",
              "      <td>Yes</td>\n",
              "      <td>Private</td>\n",
              "      <td>Rural</td>\n",
              "      <td>105.92</td>\n",
              "      <td>32.5</td>\n",
              "      <td>never smoked</td>\n",
              "      <td>1</td>\n",
              "    </tr>\n",
              "    <tr>\n",
              "      <th>3</th>\n",
              "      <td>60182</td>\n",
              "      <td>Female</td>\n",
              "      <td>49.0</td>\n",
              "      <td>0</td>\n",
              "      <td>0</td>\n",
              "      <td>Yes</td>\n",
              "      <td>Private</td>\n",
              "      <td>Urban</td>\n",
              "      <td>171.23</td>\n",
              "      <td>34.4</td>\n",
              "      <td>smokes</td>\n",
              "      <td>1</td>\n",
              "    </tr>\n",
              "    <tr>\n",
              "      <th>4</th>\n",
              "      <td>1665</td>\n",
              "      <td>Female</td>\n",
              "      <td>79.0</td>\n",
              "      <td>1</td>\n",
              "      <td>0</td>\n",
              "      <td>Yes</td>\n",
              "      <td>Self-employed</td>\n",
              "      <td>Rural</td>\n",
              "      <td>174.12</td>\n",
              "      <td>24.0</td>\n",
              "      <td>never smoked</td>\n",
              "      <td>1</td>\n",
              "    </tr>\n",
              "  </tbody>\n",
              "</table>\n",
              "</div>\n",
              "      <button class=\"colab-df-convert\" onclick=\"convertToInteractive('df-72de49de-973f-4580-943e-4772631e78de')\"\n",
              "              title=\"Convert this dataframe to an interactive table.\"\n",
              "              style=\"display:none;\">\n",
              "        \n",
              "  <svg xmlns=\"http://www.w3.org/2000/svg\" height=\"24px\"viewBox=\"0 0 24 24\"\n",
              "       width=\"24px\">\n",
              "    <path d=\"M0 0h24v24H0V0z\" fill=\"none\"/>\n",
              "    <path d=\"M18.56 5.44l.94 2.06.94-2.06 2.06-.94-2.06-.94-.94-2.06-.94 2.06-2.06.94zm-11 1L8.5 8.5l.94-2.06 2.06-.94-2.06-.94L8.5 2.5l-.94 2.06-2.06.94zm10 10l.94 2.06.94-2.06 2.06-.94-2.06-.94-.94-2.06-.94 2.06-2.06.94z\"/><path d=\"M17.41 7.96l-1.37-1.37c-.4-.4-.92-.59-1.43-.59-.52 0-1.04.2-1.43.59L10.3 9.45l-7.72 7.72c-.78.78-.78 2.05 0 2.83L4 21.41c.39.39.9.59 1.41.59.51 0 1.02-.2 1.41-.59l7.78-7.78 2.81-2.81c.8-.78.8-2.07 0-2.86zM5.41 20L4 18.59l7.72-7.72 1.47 1.35L5.41 20z\"/>\n",
              "  </svg>\n",
              "      </button>\n",
              "      \n",
              "  <style>\n",
              "    .colab-df-container {\n",
              "      display:flex;\n",
              "      flex-wrap:wrap;\n",
              "      gap: 12px;\n",
              "    }\n",
              "\n",
              "    .colab-df-convert {\n",
              "      background-color: #E8F0FE;\n",
              "      border: none;\n",
              "      border-radius: 50%;\n",
              "      cursor: pointer;\n",
              "      display: none;\n",
              "      fill: #1967D2;\n",
              "      height: 32px;\n",
              "      padding: 0 0 0 0;\n",
              "      width: 32px;\n",
              "    }\n",
              "\n",
              "    .colab-df-convert:hover {\n",
              "      background-color: #E2EBFA;\n",
              "      box-shadow: 0px 1px 2px rgba(60, 64, 67, 0.3), 0px 1px 3px 1px rgba(60, 64, 67, 0.15);\n",
              "      fill: #174EA6;\n",
              "    }\n",
              "\n",
              "    [theme=dark] .colab-df-convert {\n",
              "      background-color: #3B4455;\n",
              "      fill: #D2E3FC;\n",
              "    }\n",
              "\n",
              "    [theme=dark] .colab-df-convert:hover {\n",
              "      background-color: #434B5C;\n",
              "      box-shadow: 0px 1px 3px 1px rgba(0, 0, 0, 0.15);\n",
              "      filter: drop-shadow(0px 1px 2px rgba(0, 0, 0, 0.3));\n",
              "      fill: #FFFFFF;\n",
              "    }\n",
              "  </style>\n",
              "\n",
              "      <script>\n",
              "        const buttonEl =\n",
              "          document.querySelector('#df-72de49de-973f-4580-943e-4772631e78de button.colab-df-convert');\n",
              "        buttonEl.style.display =\n",
              "          google.colab.kernel.accessAllowed ? 'block' : 'none';\n",
              "\n",
              "        async function convertToInteractive(key) {\n",
              "          const element = document.querySelector('#df-72de49de-973f-4580-943e-4772631e78de');\n",
              "          const dataTable =\n",
              "            await google.colab.kernel.invokeFunction('convertToInteractive',\n",
              "                                                     [key], {});\n",
              "          if (!dataTable) return;\n",
              "\n",
              "          const docLinkHtml = 'Like what you see? Visit the ' +\n",
              "            '<a target=\"_blank\" href=https://colab.research.google.com/notebooks/data_table.ipynb>data table notebook</a>'\n",
              "            + ' to learn more about interactive tables.';\n",
              "          element.innerHTML = '';\n",
              "          dataTable['output_type'] = 'display_data';\n",
              "          await google.colab.output.renderOutput(dataTable, element);\n",
              "          const docLink = document.createElement('div');\n",
              "          docLink.innerHTML = docLinkHtml;\n",
              "          element.appendChild(docLink);\n",
              "        }\n",
              "      </script>\n",
              "    </div>\n",
              "  </div>\n",
              "  "
            ]
          },
          "metadata": {},
          "execution_count": 6
        }
      ],
      "source": [
        "df.head()"
      ]
    },
    {
      "cell_type": "code",
      "execution_count": 7,
      "id": "9ad48acb",
      "metadata": {
        "execution": {
          "iopub.execute_input": "2022-02-18T14:06:26.080779Z",
          "iopub.status.busy": "2022-02-18T14:06:26.080128Z",
          "iopub.status.idle": "2022-02-18T14:06:26.122969Z",
          "shell.execute_reply": "2022-02-18T14:06:26.122375Z",
          "shell.execute_reply.started": "2022-02-18T13:40:21.801193Z"
        },
        "papermill": {
          "duration": 0.099257,
          "end_time": "2022-02-18T14:06:26.123123",
          "exception": false,
          "start_time": "2022-02-18T14:06:26.023866",
          "status": "completed"
        },
        "tags": [],
        "colab": {
          "base_uri": "https://localhost:8080/",
          "height": 300
        },
        "id": "9ad48acb",
        "outputId": "025994a5-1f04-4cba-99d8-75fae8bb56eb"
      },
      "outputs": [
        {
          "output_type": "execute_result",
          "data": {
            "text/plain": [
              "                 id          age  hypertension  heart_disease  \\\n",
              "count   5110.000000  5110.000000   5110.000000    5110.000000   \n",
              "mean   36517.829354    43.226614      0.097456       0.054012   \n",
              "std    21161.721625    22.612647      0.296607       0.226063   \n",
              "min       67.000000     0.080000      0.000000       0.000000   \n",
              "25%    17741.250000    25.000000      0.000000       0.000000   \n",
              "50%    36932.000000    45.000000      0.000000       0.000000   \n",
              "75%    54682.000000    61.000000      0.000000       0.000000   \n",
              "max    72940.000000    82.000000      1.000000       1.000000   \n",
              "\n",
              "       avg_glucose_level          bmi       stroke  \n",
              "count        5110.000000  4909.000000  5110.000000  \n",
              "mean          106.147677    28.893237     0.048728  \n",
              "std            45.283560     7.854067     0.215320  \n",
              "min            55.120000    10.300000     0.000000  \n",
              "25%            77.245000    23.500000     0.000000  \n",
              "50%            91.885000    28.100000     0.000000  \n",
              "75%           114.090000    33.100000     0.000000  \n",
              "max           271.740000    97.600000     1.000000  "
            ],
            "text/html": [
              "\n",
              "  <div id=\"df-dd5b6299-39cb-4188-8f45-7b3dab289a38\">\n",
              "    <div class=\"colab-df-container\">\n",
              "      <div>\n",
              "<style scoped>\n",
              "    .dataframe tbody tr th:only-of-type {\n",
              "        vertical-align: middle;\n",
              "    }\n",
              "\n",
              "    .dataframe tbody tr th {\n",
              "        vertical-align: top;\n",
              "    }\n",
              "\n",
              "    .dataframe thead th {\n",
              "        text-align: right;\n",
              "    }\n",
              "</style>\n",
              "<table border=\"1\" class=\"dataframe\">\n",
              "  <thead>\n",
              "    <tr style=\"text-align: right;\">\n",
              "      <th></th>\n",
              "      <th>id</th>\n",
              "      <th>age</th>\n",
              "      <th>hypertension</th>\n",
              "      <th>heart_disease</th>\n",
              "      <th>avg_glucose_level</th>\n",
              "      <th>bmi</th>\n",
              "      <th>stroke</th>\n",
              "    </tr>\n",
              "  </thead>\n",
              "  <tbody>\n",
              "    <tr>\n",
              "      <th>count</th>\n",
              "      <td>5110.000000</td>\n",
              "      <td>5110.000000</td>\n",
              "      <td>5110.000000</td>\n",
              "      <td>5110.000000</td>\n",
              "      <td>5110.000000</td>\n",
              "      <td>4909.000000</td>\n",
              "      <td>5110.000000</td>\n",
              "    </tr>\n",
              "    <tr>\n",
              "      <th>mean</th>\n",
              "      <td>36517.829354</td>\n",
              "      <td>43.226614</td>\n",
              "      <td>0.097456</td>\n",
              "      <td>0.054012</td>\n",
              "      <td>106.147677</td>\n",
              "      <td>28.893237</td>\n",
              "      <td>0.048728</td>\n",
              "    </tr>\n",
              "    <tr>\n",
              "      <th>std</th>\n",
              "      <td>21161.721625</td>\n",
              "      <td>22.612647</td>\n",
              "      <td>0.296607</td>\n",
              "      <td>0.226063</td>\n",
              "      <td>45.283560</td>\n",
              "      <td>7.854067</td>\n",
              "      <td>0.215320</td>\n",
              "    </tr>\n",
              "    <tr>\n",
              "      <th>min</th>\n",
              "      <td>67.000000</td>\n",
              "      <td>0.080000</td>\n",
              "      <td>0.000000</td>\n",
              "      <td>0.000000</td>\n",
              "      <td>55.120000</td>\n",
              "      <td>10.300000</td>\n",
              "      <td>0.000000</td>\n",
              "    </tr>\n",
              "    <tr>\n",
              "      <th>25%</th>\n",
              "      <td>17741.250000</td>\n",
              "      <td>25.000000</td>\n",
              "      <td>0.000000</td>\n",
              "      <td>0.000000</td>\n",
              "      <td>77.245000</td>\n",
              "      <td>23.500000</td>\n",
              "      <td>0.000000</td>\n",
              "    </tr>\n",
              "    <tr>\n",
              "      <th>50%</th>\n",
              "      <td>36932.000000</td>\n",
              "      <td>45.000000</td>\n",
              "      <td>0.000000</td>\n",
              "      <td>0.000000</td>\n",
              "      <td>91.885000</td>\n",
              "      <td>28.100000</td>\n",
              "      <td>0.000000</td>\n",
              "    </tr>\n",
              "    <tr>\n",
              "      <th>75%</th>\n",
              "      <td>54682.000000</td>\n",
              "      <td>61.000000</td>\n",
              "      <td>0.000000</td>\n",
              "      <td>0.000000</td>\n",
              "      <td>114.090000</td>\n",
              "      <td>33.100000</td>\n",
              "      <td>0.000000</td>\n",
              "    </tr>\n",
              "    <tr>\n",
              "      <th>max</th>\n",
              "      <td>72940.000000</td>\n",
              "      <td>82.000000</td>\n",
              "      <td>1.000000</td>\n",
              "      <td>1.000000</td>\n",
              "      <td>271.740000</td>\n",
              "      <td>97.600000</td>\n",
              "      <td>1.000000</td>\n",
              "    </tr>\n",
              "  </tbody>\n",
              "</table>\n",
              "</div>\n",
              "      <button class=\"colab-df-convert\" onclick=\"convertToInteractive('df-dd5b6299-39cb-4188-8f45-7b3dab289a38')\"\n",
              "              title=\"Convert this dataframe to an interactive table.\"\n",
              "              style=\"display:none;\">\n",
              "        \n",
              "  <svg xmlns=\"http://www.w3.org/2000/svg\" height=\"24px\"viewBox=\"0 0 24 24\"\n",
              "       width=\"24px\">\n",
              "    <path d=\"M0 0h24v24H0V0z\" fill=\"none\"/>\n",
              "    <path d=\"M18.56 5.44l.94 2.06.94-2.06 2.06-.94-2.06-.94-.94-2.06-.94 2.06-2.06.94zm-11 1L8.5 8.5l.94-2.06 2.06-.94-2.06-.94L8.5 2.5l-.94 2.06-2.06.94zm10 10l.94 2.06.94-2.06 2.06-.94-2.06-.94-.94-2.06-.94 2.06-2.06.94z\"/><path d=\"M17.41 7.96l-1.37-1.37c-.4-.4-.92-.59-1.43-.59-.52 0-1.04.2-1.43.59L10.3 9.45l-7.72 7.72c-.78.78-.78 2.05 0 2.83L4 21.41c.39.39.9.59 1.41.59.51 0 1.02-.2 1.41-.59l7.78-7.78 2.81-2.81c.8-.78.8-2.07 0-2.86zM5.41 20L4 18.59l7.72-7.72 1.47 1.35L5.41 20z\"/>\n",
              "  </svg>\n",
              "      </button>\n",
              "      \n",
              "  <style>\n",
              "    .colab-df-container {\n",
              "      display:flex;\n",
              "      flex-wrap:wrap;\n",
              "      gap: 12px;\n",
              "    }\n",
              "\n",
              "    .colab-df-convert {\n",
              "      background-color: #E8F0FE;\n",
              "      border: none;\n",
              "      border-radius: 50%;\n",
              "      cursor: pointer;\n",
              "      display: none;\n",
              "      fill: #1967D2;\n",
              "      height: 32px;\n",
              "      padding: 0 0 0 0;\n",
              "      width: 32px;\n",
              "    }\n",
              "\n",
              "    .colab-df-convert:hover {\n",
              "      background-color: #E2EBFA;\n",
              "      box-shadow: 0px 1px 2px rgba(60, 64, 67, 0.3), 0px 1px 3px 1px rgba(60, 64, 67, 0.15);\n",
              "      fill: #174EA6;\n",
              "    }\n",
              "\n",
              "    [theme=dark] .colab-df-convert {\n",
              "      background-color: #3B4455;\n",
              "      fill: #D2E3FC;\n",
              "    }\n",
              "\n",
              "    [theme=dark] .colab-df-convert:hover {\n",
              "      background-color: #434B5C;\n",
              "      box-shadow: 0px 1px 3px 1px rgba(0, 0, 0, 0.15);\n",
              "      filter: drop-shadow(0px 1px 2px rgba(0, 0, 0, 0.3));\n",
              "      fill: #FFFFFF;\n",
              "    }\n",
              "  </style>\n",
              "\n",
              "      <script>\n",
              "        const buttonEl =\n",
              "          document.querySelector('#df-dd5b6299-39cb-4188-8f45-7b3dab289a38 button.colab-df-convert');\n",
              "        buttonEl.style.display =\n",
              "          google.colab.kernel.accessAllowed ? 'block' : 'none';\n",
              "\n",
              "        async function convertToInteractive(key) {\n",
              "          const element = document.querySelector('#df-dd5b6299-39cb-4188-8f45-7b3dab289a38');\n",
              "          const dataTable =\n",
              "            await google.colab.kernel.invokeFunction('convertToInteractive',\n",
              "                                                     [key], {});\n",
              "          if (!dataTable) return;\n",
              "\n",
              "          const docLinkHtml = 'Like what you see? Visit the ' +\n",
              "            '<a target=\"_blank\" href=https://colab.research.google.com/notebooks/data_table.ipynb>data table notebook</a>'\n",
              "            + ' to learn more about interactive tables.';\n",
              "          element.innerHTML = '';\n",
              "          dataTable['output_type'] = 'display_data';\n",
              "          await google.colab.output.renderOutput(dataTable, element);\n",
              "          const docLink = document.createElement('div');\n",
              "          docLink.innerHTML = docLinkHtml;\n",
              "          element.appendChild(docLink);\n",
              "        }\n",
              "      </script>\n",
              "    </div>\n",
              "  </div>\n",
              "  "
            ]
          },
          "metadata": {},
          "execution_count": 7
        }
      ],
      "source": [
        "df.describe()"
      ]
    },
    {
      "cell_type": "code",
      "execution_count": 8,
      "id": "4aa34d8b",
      "metadata": {
        "execution": {
          "iopub.execute_input": "2022-02-18T14:06:26.346529Z",
          "iopub.status.busy": "2022-02-18T14:06:26.345614Z",
          "iopub.status.idle": "2022-02-18T14:06:26.348944Z",
          "shell.execute_reply": "2022-02-18T14:06:26.349477Z",
          "shell.execute_reply.started": "2022-02-18T13:40:21.847590Z"
        },
        "papermill": {
          "duration": 0.064275,
          "end_time": "2022-02-18T14:06:26.349659",
          "exception": false,
          "start_time": "2022-02-18T14:06:26.285384",
          "status": "completed"
        },
        "tags": [],
        "colab": {
          "base_uri": "https://localhost:8080/"
        },
        "id": "4aa34d8b",
        "outputId": "f767d20e-c4a3-412f-9eae-0a49e15c2d73"
      },
      "outputs": [
        {
          "output_type": "execute_result",
          "data": {
            "text/plain": [
              "Index(['id', 'gender', 'age', 'hypertension', 'heart_disease', 'ever_married',\n",
              "       'work_type', 'Residence_type', 'avg_glucose_level', 'bmi',\n",
              "       'smoking_status', 'stroke'],\n",
              "      dtype='object')"
            ]
          },
          "metadata": {},
          "execution_count": 8
        }
      ],
      "source": [
        "df.columns"
      ]
    },
    {
      "cell_type": "markdown",
      "id": "39f06232",
      "metadata": {
        "papermill": {
          "duration": 0.054686,
          "end_time": "2022-02-18T14:06:26.460567",
          "exception": false,
          "start_time": "2022-02-18T14:06:26.405881",
          "status": "completed"
        },
        "tags": [],
        "id": "39f06232"
      },
      "source": [
        "Let us understand each attribute a bit closely:\n",
        "\n",
        "\n",
        "- id: unique identifier\n",
        "- gender: \"Male\", \"Female\" or \"Other\"\n",
        "- age: age of the patient\n",
        "- hypertension: 0 if the patient doesn't have hypertension, 1 if the patient has hypertension\n",
        "- heart_disease: 0 if the patient doesn't have any heart diseases, 1 if the patient has a heart disease\n",
        "- ever_married: \"No\" or \"Yes\"\n",
        "- work_type: \"children\", \"Govt_jov\", \"Never_worked\", \"Private\" or \"Self-employed\"\n",
        "- Residence_type: \"Rural\" or \"Urban\"\n",
        "- avg_glucose_level: average glucose level in blood\n",
        "- bmi: body mass index\n",
        "- smoking_status: \"formerly smoked\", \"never smoked\", \"smokes\" or \"Unknown\"*\n",
        "- stroke: 1 if the patient had a stroke or 0 if not\n"
      ]
    },
    {
      "cell_type": "code",
      "execution_count": 9,
      "id": "837f8500",
      "metadata": {
        "execution": {
          "iopub.execute_input": "2022-02-18T14:06:26.575992Z",
          "iopub.status.busy": "2022-02-18T14:06:26.575098Z",
          "iopub.status.idle": "2022-02-18T14:06:26.577716Z",
          "shell.execute_reply": "2022-02-18T14:06:26.577174Z",
          "shell.execute_reply.started": "2022-02-18T13:40:21.856274Z"
        },
        "papermill": {
          "duration": 0.06264,
          "end_time": "2022-02-18T14:06:26.577880",
          "exception": false,
          "start_time": "2022-02-18T14:06:26.515240",
          "status": "completed"
        },
        "tags": [],
        "id": "837f8500"
      },
      "outputs": [],
      "source": [
        "df.columns=df.columns.str.lower()"
      ]
    },
    {
      "cell_type": "markdown",
      "id": "c103e7d5",
      "metadata": {
        "papermill": {
          "duration": 0.054448,
          "end_time": "2022-02-18T14:06:26.687398",
          "exception": false,
          "start_time": "2022-02-18T14:06:26.632950",
          "status": "completed"
        },
        "tags": [],
        "id": "c103e7d5"
      },
      "source": [
        "#### Null Values Handling "
      ]
    },
    {
      "cell_type": "code",
      "execution_count": 10,
      "id": "9c1a0d3e",
      "metadata": {
        "execution": {
          "iopub.execute_input": "2022-02-18T14:06:26.807447Z",
          "iopub.status.busy": "2022-02-18T14:06:26.804958Z",
          "iopub.status.idle": "2022-02-18T14:06:26.811176Z",
          "shell.execute_reply": "2022-02-18T14:06:26.810535Z",
          "shell.execute_reply.started": "2022-02-18T13:40:21.869643Z"
        },
        "papermill": {
          "duration": 0.068979,
          "end_time": "2022-02-18T14:06:26.811321",
          "exception": false,
          "start_time": "2022-02-18T14:06:26.742342",
          "status": "completed"
        },
        "tags": [],
        "colab": {
          "base_uri": "https://localhost:8080/"
        },
        "id": "9c1a0d3e",
        "outputId": "22deca66-fb43-4c16-ba26-2f12c8bb828b"
      },
      "outputs": [
        {
          "output_type": "execute_result",
          "data": {
            "text/plain": [
              "id                     0\n",
              "gender                 0\n",
              "age                    0\n",
              "hypertension           0\n",
              "heart_disease          0\n",
              "ever_married           0\n",
              "work_type              0\n",
              "residence_type         0\n",
              "avg_glucose_level      0\n",
              "bmi                  201\n",
              "smoking_status         0\n",
              "stroke                 0\n",
              "dtype: int64"
            ]
          },
          "metadata": {},
          "execution_count": 10
        }
      ],
      "source": [
        "df.isna().sum()"
      ]
    },
    {
      "cell_type": "code",
      "execution_count": 11,
      "id": "51e67e42",
      "metadata": {
        "execution": {
          "iopub.execute_input": "2022-02-18T14:06:26.924020Z",
          "iopub.status.busy": "2022-02-18T14:06:26.923358Z",
          "iopub.status.idle": "2022-02-18T14:06:26.939115Z",
          "shell.execute_reply": "2022-02-18T14:06:26.938541Z",
          "shell.execute_reply.started": "2022-02-18T13:40:21.888845Z"
        },
        "papermill": {
          "duration": 0.073135,
          "end_time": "2022-02-18T14:06:26.939264",
          "exception": false,
          "start_time": "2022-02-18T14:06:26.866129",
          "status": "completed"
        },
        "tags": [],
        "colab": {
          "base_uri": "https://localhost:8080/"
        },
        "id": "51e67e42",
        "outputId": "3f627e6a-9346-404d-8896-87390c56308d"
      },
      "outputs": [
        {
          "output_type": "execute_result",
          "data": {
            "text/plain": [
              "id                   0\n",
              "gender               0\n",
              "age                  0\n",
              "hypertension         0\n",
              "heart_disease        0\n",
              "ever_married         0\n",
              "work_type            0\n",
              "residence_type       0\n",
              "avg_glucose_level    0\n",
              "bmi                  0\n",
              "smoking_status       0\n",
              "stroke               0\n",
              "dtype: int64"
            ]
          },
          "metadata": {},
          "execution_count": 11
        }
      ],
      "source": [
        "df=df.fillna(np.mean(df['bmi']))\n",
        "df.isna().sum()"
      ]
    },
    {
      "cell_type": "markdown",
      "id": "36ae9ab5",
      "metadata": {
        "papermill": {
          "duration": 0.055197,
          "end_time": "2022-02-18T14:06:27.049369",
          "exception": false,
          "start_time": "2022-02-18T14:06:26.994172",
          "status": "completed"
        },
        "tags": [],
        "id": "36ae9ab5"
      },
      "source": [
        "Although there are no missing values in the dataset anymore, it is important to note at this point that the column 'smoking_status' contains values \"Unknown\" which means that the information is unavailable for this patient."
      ]
    },
    {
      "cell_type": "code",
      "execution_count": 12,
      "id": "f866b606",
      "metadata": {
        "execution": {
          "iopub.execute_input": "2022-02-18T14:06:27.163212Z",
          "iopub.status.busy": "2022-02-18T14:06:27.162545Z",
          "iopub.status.idle": "2022-02-18T14:06:27.169253Z",
          "shell.execute_reply": "2022-02-18T14:06:27.169756Z",
          "shell.execute_reply.started": "2022-02-18T13:40:21.913724Z"
        },
        "papermill": {
          "duration": 0.064993,
          "end_time": "2022-02-18T14:06:27.169930",
          "exception": false,
          "start_time": "2022-02-18T14:06:27.104937",
          "status": "completed"
        },
        "tags": [],
        "id": "f866b606"
      },
      "outputs": [],
      "source": [
        "df['smoking_status'].replace('Unknown', df['smoking_status'].mode()[0], inplace=True)"
      ]
    },
    {
      "cell_type": "markdown",
      "id": "9a5214be",
      "metadata": {
        "papermill": {
          "duration": 0.055823,
          "end_time": "2022-02-18T14:06:27.392781",
          "exception": false,
          "start_time": "2022-02-18T14:06:27.336958",
          "status": "completed"
        },
        "tags": [],
        "id": "9a5214be"
      },
      "source": [
        "Since we do not need the 'id' column, we will drop the column from our dataset."
      ]
    },
    {
      "cell_type": "code",
      "execution_count": 13,
      "id": "47612a76",
      "metadata": {
        "execution": {
          "iopub.execute_input": "2022-02-18T14:06:27.508159Z",
          "iopub.status.busy": "2022-02-18T14:06:27.507476Z",
          "iopub.status.idle": "2022-02-18T14:06:27.513909Z",
          "shell.execute_reply": "2022-02-18T14:06:27.513357Z",
          "shell.execute_reply.started": "2022-02-18T13:40:21.924325Z"
        },
        "papermill": {
          "duration": 0.064986,
          "end_time": "2022-02-18T14:06:27.514060",
          "exception": false,
          "start_time": "2022-02-18T14:06:27.449074",
          "status": "completed"
        },
        "tags": [],
        "id": "47612a76"
      },
      "outputs": [],
      "source": [
        "df.drop('id', axis=1, inplace=True)"
      ]
    },
    {
      "cell_type": "code",
      "execution_count": 14,
      "id": "8d36630a",
      "metadata": {
        "execution": {
          "iopub.execute_input": "2022-02-18T14:06:27.630612Z",
          "iopub.status.busy": "2022-02-18T14:06:27.629964Z",
          "iopub.status.idle": "2022-02-18T14:06:27.632946Z",
          "shell.execute_reply": "2022-02-18T14:06:27.633427Z",
          "shell.execute_reply.started": "2022-02-18T13:40:21.942605Z"
        },
        "papermill": {
          "duration": 0.06436,
          "end_time": "2022-02-18T14:06:27.633607",
          "exception": false,
          "start_time": "2022-02-18T14:06:27.569247",
          "status": "completed"
        },
        "tags": [],
        "id": "8d36630a"
      },
      "outputs": [],
      "source": [
        "df = df[df['gender'] != 'Other']"
      ]
    },
    {
      "cell_type": "markdown",
      "id": "5097fd13",
      "metadata": {
        "papermill": {
          "duration": 0.054951,
          "end_time": "2022-02-18T14:06:27.744028",
          "exception": false,
          "start_time": "2022-02-18T14:06:27.689077",
          "status": "completed"
        },
        "tags": [],
        "id": "5097fd13"
      },
      "source": [
        "Let us segregate the data into numerical and categorical values.\n",
        "\n",
        ">Categorical data refers to a data type that can be stored and identified based on the names or labels given to them. \n",
        "\n",
        ">Numerical data refers to the data that is in the form of numbers, and not in any language or descriptive form. \n",
        "\n",
        "This will help us analyze the data better."
      ]
    },
    {
      "cell_type": "code",
      "execution_count": 15,
      "id": "ac7d3809",
      "metadata": {
        "execution": {
          "iopub.execute_input": "2022-02-18T14:06:27.858240Z",
          "iopub.status.busy": "2022-02-18T14:06:27.857535Z",
          "iopub.status.idle": "2022-02-18T14:06:27.871782Z",
          "shell.execute_reply": "2022-02-18T14:06:27.872349Z",
          "shell.execute_reply.started": "2022-02-18T13:40:21.959778Z"
        },
        "papermill": {
          "duration": 0.073223,
          "end_time": "2022-02-18T14:06:27.872543",
          "exception": false,
          "start_time": "2022-02-18T14:06:27.799320",
          "status": "completed"
        },
        "tags": [],
        "id": "ac7d3809"
      },
      "outputs": [],
      "source": [
        "numeric_data=df.loc[:,df.nunique() > 5]\n",
        "cols = [col for col in df.columns if col not in numeric_data]\n",
        "\n",
        "categorical_data=df[cols].drop('stroke',axis=1)\n",
        "numeric_data=pd.DataFrame(numeric_data)\n",
        "categorical_data=pd.DataFrame(categorical_data)"
      ]
    },
    {
      "cell_type": "code",
      "execution_count": 16,
      "id": "6fd04112",
      "metadata": {
        "execution": {
          "iopub.execute_input": "2022-02-18T14:06:27.988354Z",
          "iopub.status.busy": "2022-02-18T14:06:27.987605Z",
          "iopub.status.idle": "2022-02-18T14:06:27.991842Z",
          "shell.execute_reply": "2022-02-18T14:06:27.991185Z",
          "shell.execute_reply.started": "2022-02-18T13:40:21.981251Z"
        },
        "papermill": {
          "duration": 0.063863,
          "end_time": "2022-02-18T14:06:27.991986",
          "exception": false,
          "start_time": "2022-02-18T14:06:27.928123",
          "status": "completed"
        },
        "tags": [],
        "colab": {
          "base_uri": "https://localhost:8080/"
        },
        "id": "6fd04112",
        "outputId": "1fdb3830-8a35-40ce-9bb4-8daebc524379"
      },
      "outputs": [
        {
          "output_type": "stream",
          "name": "stdout",
          "text": [
            "Numerical data: ['age', 'avg_glucose_level', 'bmi']\n",
            "Categorical data: ['gender', 'hypertension', 'heart_disease', 'ever_married', 'work_type', 'residence_type', 'smoking_status']\n"
          ]
        }
      ],
      "source": [
        "print(f'Numerical data: {list(numeric_data)}')\n",
        "print(f'Categorical data: {list(categorical_data)}')"
      ]
    },
    {
      "cell_type": "markdown",
      "id": "99a584c6",
      "metadata": {
        "_kg_hide-input": false,
        "_kg_hide-output": false,
        "papermill": {
          "duration": 0.056632,
          "end_time": "2022-02-18T14:06:28.215532",
          "exception": false,
          "start_time": "2022-02-18T14:06:28.158900",
          "status": "completed"
        },
        "tags": [],
        "id": "99a584c6"
      },
      "source": [
        "# EDA"
      ]
    },
    {
      "cell_type": "markdown",
      "id": "34732c0d",
      "metadata": {
        "papermill": {
          "duration": 0.056187,
          "end_time": "2022-02-18T14:06:28.328144",
          "exception": false,
          "start_time": "2022-02-18T14:06:28.271957",
          "status": "completed"
        },
        "tags": [],
        "id": "34732c0d"
      },
      "source": [
        "#### Heatmap"
      ]
    },
    {
      "cell_type": "code",
      "execution_count": 17,
      "id": "bd046784",
      "metadata": {
        "execution": {
          "iopub.execute_input": "2022-02-18T14:06:28.448410Z",
          "iopub.status.busy": "2022-02-18T14:06:28.447740Z",
          "iopub.status.idle": "2022-02-18T14:06:29.035515Z",
          "shell.execute_reply": "2022-02-18T14:06:29.036077Z",
          "shell.execute_reply.started": "2022-02-18T13:40:21.988401Z"
        },
        "papermill": {
          "duration": 0.651262,
          "end_time": "2022-02-18T14:06:29.036263",
          "exception": false,
          "start_time": "2022-02-18T14:06:28.385001",
          "status": "completed"
        },
        "tags": [],
        "colab": {
          "base_uri": "https://localhost:8080/",
          "height": 350
        },
        "id": "bd046784",
        "outputId": "1f772374-694f-4355-ea0b-e9d629e3c9bd"
      },
      "outputs": [
        {
          "output_type": "display_data",
          "data": {
            "text/plain": [
              "<Figure size 432x288 with 2 Axes>"
            ],
            "image/png": "[encoded data removed]"
          },
          "metadata": {}
        }
      ],
      "source": [
        "sns.heatmap(df.corr(), cmap = 'Greens',annot=True);"
      ]
    },
    {
      "cell_type": "markdown",
      "id": "40dcea49",
      "metadata": {
        "papermill": {
          "duration": 0.05673,
          "end_time": "2022-02-18T14:06:29.150006",
          "exception": false,
          "start_time": "2022-02-18T14:06:29.093276",
          "status": "completed"
        },
        "tags": [],
        "id": "40dcea49"
      },
      "source": [
        "As visible from the heatmap:\n",
        "- 'age' and 'bmi' are correlated fairly high. This shows that the bmi tends to increase with an increase in age.\n",
        "-  'age' and 'hypertension' are also quite correlated. This is alarming for our society, as this implies poorer mental health conditions among elders."
      ]
    },
    {
      "cell_type": "markdown",
      "id": "e2e4b464",
      "metadata": {
        "papermill": {
          "duration": 0.056842,
          "end_time": "2022-02-18T14:06:29.264221",
          "exception": false,
          "start_time": "2022-02-18T14:06:29.207379",
          "status": "completed"
        },
        "tags": [],
        "id": "e2e4b464"
      },
      "source": [
        "### Countplot"
      ]
    },
    {
      "cell_type": "code",
      "execution_count": 18,
      "id": "9d48cf12",
      "metadata": {
        "execution": {
          "iopub.execute_input": "2022-02-18T14:06:29.382449Z",
          "iopub.status.busy": "2022-02-18T14:06:29.381778Z",
          "iopub.status.idle": "2022-02-18T14:06:29.720660Z",
          "shell.execute_reply": "2022-02-18T14:06:29.721336Z",
          "shell.execute_reply.started": "2022-02-18T13:40:22.526597Z"
        },
        "papermill": {
          "duration": 0.399894,
          "end_time": "2022-02-18T14:06:29.721522",
          "exception": false,
          "start_time": "2022-02-18T14:06:29.321628",
          "status": "completed"
        },
        "tags": [],
        "colab": {
          "base_uri": "https://localhost:8080/",
          "height": 404
        },
        "id": "9d48cf12",
        "outputId": "beb341c2-5a6a-4794-8210-f6dfd21878f9"
      },
      "outputs": [
        {
          "output_type": "display_data",
          "data": {
            "text/plain": [
              "<Figure size 720x432 with 1 Axes>"
            ],
            "image/png": "[encoded data removed]"
          },
          "metadata": {}
        }
      ],
      "source": [
        "plt.figure(figsize=(10,6))\n",
        "ax=sns.countplot(x='smoking_status',data=df, palette='rainbow',hue='stroke')\n",
        "plt.title(\"Count of people in each Smoking Group, Separated by Stroke\")\n",
        "for p in ax.patches:\n",
        "        ax.annotate('{}'.format(p.get_height()), (p.get_x()+0.15, p.get_height()+50))"
      ]
    },
    {
      "cell_type": "markdown",
      "id": "e2e21a5b",
      "metadata": {
        "papermill": {
          "duration": 0.058151,
          "end_time": "2022-02-18T14:06:29.838070",
          "exception": false,
          "start_time": "2022-02-18T14:06:29.779919",
          "status": "completed"
        },
        "tags": [],
        "id": "e2e21a5b"
      },
      "source": [
        "- People who formerly smoked and who smoke show signs of stroke way more than people who never smoked."
      ]
    },
    {
      "cell_type": "markdown",
      "id": "62363348",
      "metadata": {
        "papermill": {
          "duration": 0.058322,
          "end_time": "2022-02-18T14:06:29.954816",
          "exception": false,
          "start_time": "2022-02-18T14:06:29.896494",
          "status": "completed"
        },
        "tags": [],
        "id": "62363348"
      },
      "source": [
        "### Catplot"
      ]
    },
    {
      "cell_type": "code",
      "execution_count": 19,
      "id": "6cef2d92",
      "metadata": {
        "execution": {
          "iopub.execute_input": "2022-02-18T14:06:30.073320Z",
          "iopub.status.busy": "2022-02-18T14:06:30.072635Z",
          "iopub.status.idle": "2022-02-18T14:06:31.263202Z",
          "shell.execute_reply": "2022-02-18T14:06:31.263725Z",
          "shell.execute_reply.started": "2022-02-18T13:40:22.842844Z"
        },
        "papermill": {
          "duration": 1.251341,
          "end_time": "2022-02-18T14:06:31.263916",
          "exception": false,
          "start_time": "2022-02-18T14:06:30.012575",
          "status": "completed"
        },
        "tags": [],
        "colab": {
          "base_uri": "https://localhost:8080/",
          "height": 193
        },
        "id": "6cef2d92",
        "outputId": "3336de6d-0774-48ab-e39f-6a12a864e2e7"
      },
      "outputs": [
        {
          "output_type": "display_data",
          "data": {
            "text/plain": [
              "<Figure size 720x144 with 2 Axes>"
            ],
            "image/png": "[encoded data removed]"
          },
          "metadata": {}
        }
      ],
      "source": [
        "g = sns.catplot(x='work_type',y='stroke', col = 'residence_type', data=df, kind='bar', palette='magma', saturation =2.5)\n",
        "(g.set_axis_labels(\"Work Type\", \"Stroke Rate\").set_titles(\"{col_name}\").set(ylim=(0,0.15)))\n",
        "g.fig.set_figwidth(10)\n",
        "g.fig.set_figheight(2)\n"
      ]
    },
    {
      "cell_type": "markdown",
      "id": "a49f8d6e",
      "metadata": {
        "papermill": {
          "duration": 0.060397,
          "end_time": "2022-02-18T14:06:31.384179",
          "exception": false,
          "start_time": "2022-02-18T14:06:31.323782",
          "status": "completed"
        },
        "tags": [],
        "id": "a49f8d6e"
      },
      "source": [
        "As visible from the above:\n",
        "- Living in a rural or urban areas does not affect the risk of stroke in any way."
      ]
    },
    {
      "cell_type": "markdown",
      "id": "d23ea06a",
      "metadata": {
        "_kg_hide-input": false,
        "_kg_hide-output": false,
        "papermill": {
          "duration": 0.059759,
          "end_time": "2022-02-18T14:06:31.623159",
          "exception": false,
          "start_time": "2022-02-18T14:06:31.563400",
          "status": "completed"
        },
        "tags": [],
        "id": "d23ea06a"
      },
      "source": [
        "# Preprocessing"
      ]
    },
    {
      "cell_type": "markdown",
      "id": "0e081738",
      "metadata": {
        "papermill": {
          "duration": 0.058861,
          "end_time": "2022-02-18T14:06:31.741516",
          "exception": false,
          "start_time": "2022-02-18T14:06:31.682655",
          "status": "completed"
        },
        "tags": [],
        "id": "0e081738"
      },
      "source": [
        "#### Standard Scaler"
      ]
    },
    {
      "cell_type": "markdown",
      "id": "9b77cede",
      "metadata": {
        "papermill": {
          "duration": 0.059065,
          "end_time": "2022-02-18T14:06:31.859925",
          "exception": false,
          "start_time": "2022-02-18T14:06:31.800860",
          "status": "completed"
        },
        "tags": [],
        "id": "9b77cede"
      },
      "source": [
        "This arranges the data in a standard normal distribution, with mean as 0 and standard deviation as 1."
      ]
    },
    {
      "cell_type": "code",
      "execution_count": 20,
      "id": "1b6ff8b0",
      "metadata": {
        "execution": {
          "iopub.execute_input": "2022-02-18T14:06:31.985044Z",
          "iopub.status.busy": "2022-02-18T14:06:31.984327Z",
          "iopub.status.idle": "2022-02-18T14:06:31.990884Z",
          "shell.execute_reply": "2022-02-18T14:06:31.991472Z",
          "shell.execute_reply.started": "2022-02-18T13:40:23.855703Z"
        },
        "papermill": {
          "duration": 0.072291,
          "end_time": "2022-02-18T14:06:31.991656",
          "exception": false,
          "start_time": "2022-02-18T14:06:31.919365",
          "status": "completed"
        },
        "tags": [],
        "id": "1b6ff8b0"
      },
      "outputs": [],
      "source": [
        "num_cols=numeric_data.columns.to_list()\n",
        "sc = StandardScaler()\n",
        "df[num_cols] = sc.fit_transform(df[num_cols])"
      ]
    },
    {
      "cell_type": "code",
      "execution_count": 21,
      "id": "1248f00e",
      "metadata": {
        "execution": {
          "iopub.execute_input": "2022-02-18T14:06:32.113813Z",
          "iopub.status.busy": "2022-02-18T14:06:32.113102Z",
          "iopub.status.idle": "2022-02-18T14:06:32.128784Z",
          "shell.execute_reply": "2022-02-18T14:06:32.129322Z",
          "shell.execute_reply.started": "2022-02-18T13:40:23.866550Z"
        },
        "papermill": {
          "duration": 0.078464,
          "end_time": "2022-02-18T14:06:32.129522",
          "exception": false,
          "start_time": "2022-02-18T14:06:32.051058",
          "status": "completed"
        },
        "tags": [],
        "colab": {
          "base_uri": "https://localhost:8080/",
          "height": 284
        },
        "id": "1248f00e",
        "outputId": "e9be4361-739f-4c14-9dd9-18dd8ddc0d5b"
      },
      "outputs": [
        {
          "output_type": "execute_result",
          "data": {
            "text/plain": [
              "   gender       age  hypertension  heart_disease ever_married      work_type  \\\n",
              "0    Male  1.051242             0              1          Yes        Private   \n",
              "1  Female  0.785889             0              0          Yes  Self-employed   \n",
              "2    Male  1.626174             0              1          Yes        Private   \n",
              "3  Female  0.255182             0              0          Yes        Private   \n",
              "4  Female  1.581949             1              0          Yes  Self-employed   \n",
              "\n",
              "  residence_type  avg_glucose_level       bmi   smoking_status  stroke  \n",
              "0          Urban           2.706450  1.001041  formerly smoked       1  \n",
              "1          Rural           2.121652 -0.000165     never smoked       1  \n",
              "2          Rural          -0.004867  0.468399     never smoked       1  \n",
              "3          Urban           1.437473  0.715233           smokes       1  \n",
              "4          Rural           1.501297 -0.635858     never smoked       1  "
            ],
            "text/html": [
              "\n",
              "  <div id=\"df-8f8de9e9-4696-469f-8200-5bcd06024403\">\n",
              "    <div class=\"colab-df-container\">\n",
              "      <div>\n",
              "<style scoped>\n",
              "    .dataframe tbody tr th:only-of-type {\n",
              "        vertical-align: middle;\n",
              "    }\n",
              "\n",
              "    .dataframe tbody tr th {\n",
              "        vertical-align: top;\n",
              "    }\n",
              "\n",
              "    .dataframe thead th {\n",
              "        text-align: right;\n",
              "    }\n",
              "</style>\n",
              "<table border=\"1\" class=\"dataframe\">\n",
              "  <thead>\n",
              "    <tr style=\"text-align: right;\">\n",
              "      <th></th>\n",
              "      <th>gender</th>\n",
              "      <th>age</th>\n",
              "      <th>hypertension</th>\n",
              "      <th>heart_disease</th>\n",
              "      <th>ever_married</th>\n",
              "      <th>work_type</th>\n",
              "      <th>residence_type</th>\n",
              "      <th>avg_glucose_level</th>\n",
              "      <th>bmi</th>\n",
              "      <th>smoking_status</th>\n",
              "      <th>stroke</th>\n",
              "    </tr>\n",
              "  </thead>\n",
              "  <tbody>\n",
              "    <tr>\n",
              "      <th>0</th>\n",
              "      <td>Male</td>\n",
              "      <td>1.051242</td>\n",
              "      <td>0</td>\n",
              "      <td>1</td>\n",
              "      <td>Yes</td>\n",
              "      <td>Private</td>\n",
              "      <td>Urban</td>\n",
              "      <td>2.706450</td>\n",
              "      <td>1.001041</td>\n",
              "      <td>formerly smoked</td>\n",
              "      <td>1</td>\n",
              "    </tr>\n",
              "    <tr>\n",
              "      <th>1</th>\n",
              "      <td>Female</td>\n",
              "      <td>0.785889</td>\n",
              "      <td>0</td>\n",
              "      <td>0</td>\n",
              "      <td>Yes</td>\n",
              "      <td>Self-employed</td>\n",
              "      <td>Rural</td>\n",
              "      <td>2.121652</td>\n",
              "      <td>-0.000165</td>\n",
              "      <td>never smoked</td>\n",
              "      <td>1</td>\n",
              "    </tr>\n",
              "    <tr>\n",
              "      <th>2</th>\n",
              "      <td>Male</td>\n",
              "      <td>1.626174</td>\n",
              "      <td>0</td>\n",
              "      <td>1</td>\n",
              "      <td>Yes</td>\n",
              "      <td>Private</td>\n",
              "      <td>Rural</td>\n",
              "      <td>-0.004867</td>\n",
              "      <td>0.468399</td>\n",
              "      <td>never smoked</td>\n",
              "      <td>1</td>\n",
              "    </tr>\n",
              "    <tr>\n",
              "      <th>3</th>\n",
              "      <td>Female</td>\n",
              "      <td>0.255182</td>\n",
              "      <td>0</td>\n",
              "      <td>0</td>\n",
              "      <td>Yes</td>\n",
              "      <td>Private</td>\n",
              "      <td>Urban</td>\n",
              "      <td>1.437473</td>\n",
              "      <td>0.715233</td>\n",
              "      <td>smokes</td>\n",
              "      <td>1</td>\n",
              "    </tr>\n",
              "    <tr>\n",
              "      <th>4</th>\n",
              "      <td>Female</td>\n",
              "      <td>1.581949</td>\n",
              "      <td>1</td>\n",
              "      <td>0</td>\n",
              "      <td>Yes</td>\n",
              "      <td>Self-employed</td>\n",
              "      <td>Rural</td>\n",
              "      <td>1.501297</td>\n",
              "      <td>-0.635858</td>\n",
              "      <td>never smoked</td>\n",
              "      <td>1</td>\n",
              "    </tr>\n",
              "  </tbody>\n",
              "</table>\n",
              "</div>\n",
              "      <button class=\"colab-df-convert\" onclick=\"convertToInteractive('df-8f8de9e9-4696-469f-8200-5bcd06024403')\"\n",
              "              title=\"Convert this dataframe to an interactive table.\"\n",
              "              style=\"display:none;\">\n",
              "        \n",
              "  <svg xmlns=\"http://www.w3.org/2000/svg\" height=\"24px\"viewBox=\"0 0 24 24\"\n",
              "       width=\"24px\">\n",
              "    <path d=\"M0 0h24v24H0V0z\" fill=\"none\"/>\n",
              "    <path d=\"M18.56 5.44l.94 2.06.94-2.06 2.06-.94-2.06-.94-.94-2.06-.94 2.06-2.06.94zm-11 1L8.5 8.5l.94-2.06 2.06-.94-2.06-.94L8.5 2.5l-.94 2.06-2.06.94zm10 10l.94 2.06.94-2.06 2.06-.94-2.06-.94-.94-2.06-.94 2.06-2.06.94z\"/><path d=\"M17.41 7.96l-1.37-1.37c-.4-.4-.92-.59-1.43-.59-.52 0-1.04.2-1.43.59L10.3 9.45l-7.72 7.72c-.78.78-.78 2.05 0 2.83L4 21.41c.39.39.9.59 1.41.59.51 0 1.02-.2 1.41-.59l7.78-7.78 2.81-2.81c.8-.78.8-2.07 0-2.86zM5.41 20L4 18.59l7.72-7.72 1.47 1.35L5.41 20z\"/>\n",
              "  </svg>\n",
              "      </button>\n",
              "      \n",
              "  <style>\n",
              "    .colab-df-container {\n",
              "      display:flex;\n",
              "      flex-wrap:wrap;\n",
              "      gap: 12px;\n",
              "    }\n",
              "\n",
              "    .colab-df-convert {\n",
              "      background-color: #E8F0FE;\n",
              "      border: none;\n",
              "      border-radius: 50%;\n",
              "      cursor: pointer;\n",
              "      display: none;\n",
              "      fill: #1967D2;\n",
              "      height: 32px;\n",
              "      padding: 0 0 0 0;\n",
              "      width: 32px;\n",
              "    }\n",
              "\n",
              "    .colab-df-convert:hover {\n",
              "      background-color: #E2EBFA;\n",
              "      box-shadow: 0px 1px 2px rgba(60, 64, 67, 0.3), 0px 1px 3px 1px rgba(60, 64, 67, 0.15);\n",
              "      fill: #174EA6;\n",
              "    }\n",
              "\n",
              "    [theme=dark] .colab-df-convert {\n",
              "      background-color: #3B4455;\n",
              "      fill: #D2E3FC;\n",
              "    }\n",
              "\n",
              "    [theme=dark] .colab-df-convert:hover {\n",
              "      background-color: #434B5C;\n",
              "      box-shadow: 0px 1px 3px 1px rgba(0, 0, 0, 0.15);\n",
              "      filter: drop-shadow(0px 1px 2px rgba(0, 0, 0, 0.3));\n",
              "      fill: #FFFFFF;\n",
              "    }\n",
              "  </style>\n",
              "\n",
              "      <script>\n",
              "        const buttonEl =\n",
              "          document.querySelector('#df-8f8de9e9-4696-469f-8200-5bcd06024403 button.colab-df-convert');\n",
              "        buttonEl.style.display =\n",
              "          google.colab.kernel.accessAllowed ? 'block' : 'none';\n",
              "\n",
              "        async function convertToInteractive(key) {\n",
              "          const element = document.querySelector('#df-8f8de9e9-4696-469f-8200-5bcd06024403');\n",
              "          const dataTable =\n",
              "            await google.colab.kernel.invokeFunction('convertToInteractive',\n",
              "                                                     [key], {});\n",
              "          if (!dataTable) return;\n",
              "\n",
              "          const docLinkHtml = 'Like what you see? Visit the ' +\n",
              "            '<a target=\"_blank\" href=https://colab.research.google.com/notebooks/data_table.ipynb>data table notebook</a>'\n",
              "            + ' to learn more about interactive tables.';\n",
              "          element.innerHTML = '';\n",
              "          dataTable['output_type'] = 'display_data';\n",
              "          await google.colab.output.renderOutput(dataTable, element);\n",
              "          const docLink = document.createElement('div');\n",
              "          docLink.innerHTML = docLinkHtml;\n",
              "          element.appendChild(docLink);\n",
              "        }\n",
              "      </script>\n",
              "    </div>\n",
              "  </div>\n",
              "  "
            ]
          },
          "metadata": {},
          "execution_count": 21
        }
      ],
      "source": [
        "df.head()"
      ]
    },
    {
      "cell_type": "markdown",
      "id": "1eb37e60",
      "metadata": {
        "papermill": {
          "duration": 0.060824,
          "end_time": "2022-02-18T14:06:32.250900",
          "exception": false,
          "start_time": "2022-02-18T14:06:32.190076",
          "status": "completed"
        },
        "tags": [],
        "id": "1eb37e60"
      },
      "source": [
        "#### Label Encoding"
      ]
    },
    {
      "cell_type": "markdown",
      "id": "542b9029",
      "metadata": {
        "papermill": {
          "duration": 0.059457,
          "end_time": "2022-02-18T14:06:32.370470",
          "exception": false,
          "start_time": "2022-02-18T14:06:32.311013",
          "status": "completed"
        },
        "tags": [],
        "id": "542b9029"
      },
      "source": [
        "Converting the labels into a numeric form so as to use it to fit and evaluate a model."
      ]
    },
    {
      "cell_type": "code",
      "execution_count": 22,
      "id": "3cf2de09",
      "metadata": {
        "execution": {
          "iopub.execute_input": "2022-02-18T14:06:32.498962Z",
          "iopub.status.busy": "2022-02-18T14:06:32.498234Z",
          "iopub.status.idle": "2022-02-18T14:06:32.506393Z",
          "shell.execute_reply": "2022-02-18T14:06:32.506984Z",
          "shell.execute_reply.started": "2022-02-18T13:40:23.889031Z"
        },
        "papermill": {
          "duration": 0.075872,
          "end_time": "2022-02-18T14:06:32.507178",
          "exception": false,
          "start_time": "2022-02-18T14:06:32.431306",
          "status": "completed"
        },
        "tags": [],
        "id": "3cf2de09"
      },
      "outputs": [],
      "source": [
        "le = LabelEncoder()\n",
        "object_col = [col for col in df.columns if df[col].dtype == 'object']\n",
        "for col in object_col:\n",
        "    df[col] = le.fit_transform(df[col])"
      ]
    },
    {
      "cell_type": "code",
      "execution_count": 23,
      "id": "6cc8d178",
      "metadata": {
        "execution": {
          "iopub.execute_input": "2022-02-18T14:06:32.632357Z",
          "iopub.status.busy": "2022-02-18T14:06:32.631658Z",
          "iopub.status.idle": "2022-02-18T14:06:32.642879Z",
          "shell.execute_reply": "2022-02-18T14:06:32.643415Z",
          "shell.execute_reply.started": "2022-02-18T13:40:23.908843Z"
        },
        "papermill": {
          "duration": 0.076773,
          "end_time": "2022-02-18T14:06:32.643594",
          "exception": false,
          "start_time": "2022-02-18T14:06:32.566821",
          "status": "completed"
        },
        "tags": [],
        "colab": {
          "base_uri": "https://localhost:8080/",
          "height": 250
        },
        "id": "6cc8d178",
        "outputId": "61850544-a7db-4da5-f852-6153f604142c"
      },
      "outputs": [
        {
          "output_type": "execute_result",
          "data": {
            "text/plain": [
              "   gender       age  hypertension  heart_disease  ever_married  work_type  \\\n",
              "0       1  1.051242             0              1             1          2   \n",
              "1       0  0.785889             0              0             1          3   \n",
              "2       1  1.626174             0              1             1          2   \n",
              "3       0  0.255182             0              0             1          2   \n",
              "4       0  1.581949             1              0             1          3   \n",
              "\n",
              "   residence_type  avg_glucose_level       bmi  smoking_status  stroke  \n",
              "0               1           2.706450  1.001041               0       1  \n",
              "1               0           2.121652 -0.000165               1       1  \n",
              "2               0          -0.004867  0.468399               1       1  \n",
              "3               1           1.437473  0.715233               2       1  \n",
              "4               0           1.501297 -0.635858               1       1  "
            ],
            "text/html": [
              "\n",
              "  <div id=\"df-afaa38c2-2dad-4f53-95da-8df27c9dc20a\">\n",
              "    <div class=\"colab-df-container\">\n",
              "      <div>\n",
              "<style scoped>\n",
              "    .dataframe tbody tr th:only-of-type {\n",
              "        vertical-align: middle;\n",
              "    }\n",
              "\n",
              "    .dataframe tbody tr th {\n",
              "        vertical-align: top;\n",
              "    }\n",
              "\n",
              "    .dataframe thead th {\n",
              "        text-align: right;\n",
              "    }\n",
              "</style>\n",
              "<table border=\"1\" class=\"dataframe\">\n",
              "  <thead>\n",
              "    <tr style=\"text-align: right;\">\n",
              "      <th></th>\n",
              "      <th>gender</th>\n",
              "      <th>age</th>\n",
              "      <th>hypertension</th>\n",
              "      <th>heart_disease</th>\n",
              "      <th>ever_married</th>\n",
              "      <th>work_type</th>\n",
              "      <th>residence_type</th>\n",
              "      <th>avg_glucose_level</th>\n",
              "      <th>bmi</th>\n",
              "      <th>smoking_status</th>\n",
              "      <th>stroke</th>\n",
              "    </tr>\n",
              "  </thead>\n",
              "  <tbody>\n",
              "    <tr>\n",
              "      <th>0</th>\n",
              "      <td>1</td>\n",
              "      <td>1.051242</td>\n",
              "      <td>0</td>\n",
              "      <td>1</td>\n",
              "      <td>1</td>\n",
              "      <td>2</td>\n",
              "      <td>1</td>\n",
              "      <td>2.706450</td>\n",
              "      <td>1.001041</td>\n",
              "      <td>0</td>\n",
              "      <td>1</td>\n",
              "    </tr>\n",
              "    <tr>\n",
              "      <th>1</th>\n",
              "      <td>0</td>\n",
              "      <td>0.785889</td>\n",
              "      <td>0</td>\n",
              "      <td>0</td>\n",
              "      <td>1</td>\n",
              "      <td>3</td>\n",
              "      <td>0</td>\n",
              "      <td>2.121652</td>\n",
              "      <td>-0.000165</td>\n",
              "      <td>1</td>\n",
              "      <td>1</td>\n",
              "    </tr>\n",
              "    <tr>\n",
              "      <th>2</th>\n",
              "      <td>1</td>\n",
              "      <td>1.626174</td>\n",
              "      <td>0</td>\n",
              "      <td>1</td>\n",
              "      <td>1</td>\n",
              "      <td>2</td>\n",
              "      <td>0</td>\n",
              "      <td>-0.004867</td>\n",
              "      <td>0.468399</td>\n",
              "      <td>1</td>\n",
              "      <td>1</td>\n",
              "    </tr>\n",
              "    <tr>\n",
              "      <th>3</th>\n",
              "      <td>0</td>\n",
              "      <td>0.255182</td>\n",
              "      <td>0</td>\n",
              "      <td>0</td>\n",
              "      <td>1</td>\n",
              "      <td>2</td>\n",
              "      <td>1</td>\n",
              "      <td>1.437473</td>\n",
              "      <td>0.715233</td>\n",
              "      <td>2</td>\n",
              "      <td>1</td>\n",
              "    </tr>\n",
              "    <tr>\n",
              "      <th>4</th>\n",
              "      <td>0</td>\n",
              "      <td>1.581949</td>\n",
              "      <td>1</td>\n",
              "      <td>0</td>\n",
              "      <td>1</td>\n",
              "      <td>3</td>\n",
              "      <td>0</td>\n",
              "      <td>1.501297</td>\n",
              "      <td>-0.635858</td>\n",
              "      <td>1</td>\n",
              "      <td>1</td>\n",
              "    </tr>\n",
              "  </tbody>\n",
              "</table>\n",
              "</div>\n",
              "      <button class=\"colab-df-convert\" onclick=\"convertToInteractive('df-afaa38c2-2dad-4f53-95da-8df27c9dc20a')\"\n",
              "              title=\"Convert this dataframe to an interactive table.\"\n",
              "              style=\"display:none;\">\n",
              "        \n",
              "  <svg xmlns=\"http://www.w3.org/2000/svg\" height=\"24px\"viewBox=\"0 0 24 24\"\n",
              "       width=\"24px\">\n",
              "    <path d=\"M0 0h24v24H0V0z\" fill=\"none\"/>\n",
              "    <path d=\"M18.56 5.44l.94 2.06.94-2.06 2.06-.94-2.06-.94-.94-2.06-.94 2.06-2.06.94zm-11 1L8.5 8.5l.94-2.06 2.06-.94-2.06-.94L8.5 2.5l-.94 2.06-2.06.94zm10 10l.94 2.06.94-2.06 2.06-.94-2.06-.94-.94-2.06-.94 2.06-2.06.94z\"/><path d=\"M17.41 7.96l-1.37-1.37c-.4-.4-.92-.59-1.43-.59-.52 0-1.04.2-1.43.59L10.3 9.45l-7.72 7.72c-.78.78-.78 2.05 0 2.83L4 21.41c.39.39.9.59 1.41.59.51 0 1.02-.2 1.41-.59l7.78-7.78 2.81-2.81c.8-.78.8-2.07 0-2.86zM5.41 20L4 18.59l7.72-7.72 1.47 1.35L5.41 20z\"/>\n",
              "  </svg>\n",
              "      </button>\n",
              "      \n",
              "  <style>\n",
              "    .colab-df-container {\n",
              "      display:flex;\n",
              "      flex-wrap:wrap;\n",
              "      gap: 12px;\n",
              "    }\n",
              "\n",
              "    .colab-df-convert {\n",
              "      background-color: #E8F0FE;\n",
              "      border: none;\n",
              "      border-radius: 50%;\n",
              "      cursor: pointer;\n",
              "      display: none;\n",
              "      fill: #1967D2;\n",
              "      height: 32px;\n",
              "      padding: 0 0 0 0;\n",
              "      width: 32px;\n",
              "    }\n",
              "\n",
              "    .colab-df-convert:hover {\n",
              "      background-color: #E2EBFA;\n",
              "      box-shadow: 0px 1px 2px rgba(60, 64, 67, 0.3), 0px 1px 3px 1px rgba(60, 64, 67, 0.15);\n",
              "      fill: #174EA6;\n",
              "    }\n",
              "\n",
              "    [theme=dark] .colab-df-convert {\n",
              "      background-color: #3B4455;\n",
              "      fill: #D2E3FC;\n",
              "    }\n",
              "\n",
              "    [theme=dark] .colab-df-convert:hover {\n",
              "      background-color: #434B5C;\n",
              "      box-shadow: 0px 1px 3px 1px rgba(0, 0, 0, 0.15);\n",
              "      filter: drop-shadow(0px 1px 2px rgba(0, 0, 0, 0.3));\n",
              "      fill: #FFFFFF;\n",
              "    }\n",
              "  </style>\n",
              "\n",
              "      <script>\n",
              "        const buttonEl =\n",
              "          document.querySelector('#df-afaa38c2-2dad-4f53-95da-8df27c9dc20a button.colab-df-convert');\n",
              "        buttonEl.style.display =\n",
              "          google.colab.kernel.accessAllowed ? 'block' : 'none';\n",
              "\n",
              "        async function convertToInteractive(key) {\n",
              "          const element = document.querySelector('#df-afaa38c2-2dad-4f53-95da-8df27c9dc20a');\n",
              "          const dataTable =\n",
              "            await google.colab.kernel.invokeFunction('convertToInteractive',\n",
              "                                                     [key], {});\n",
              "          if (!dataTable) return;\n",
              "\n",
              "          const docLinkHtml = 'Like what you see? Visit the ' +\n",
              "            '<a target=\"_blank\" href=https://colab.research.google.com/notebooks/data_table.ipynb>data table notebook</a>'\n",
              "            + ' to learn more about interactive tables.';\n",
              "          element.innerHTML = '';\n",
              "          dataTable['output_type'] = 'display_data';\n",
              "          await google.colab.output.renderOutput(dataTable, element);\n",
              "          const docLink = document.createElement('div');\n",
              "          docLink.innerHTML = docLinkHtml;\n",
              "          element.appendChild(docLink);\n",
              "        }\n",
              "      </script>\n",
              "    </div>\n",
              "  </div>\n",
              "  "
            ]
          },
          "metadata": {},
          "execution_count": 23
        }
      ],
      "source": [
        "df.head()"
      ]
    },
    {
      "cell_type": "markdown",
      "id": "7fa052cd",
      "metadata": {
        "papermill": {
          "duration": 0.059517,
          "end_time": "2022-02-18T14:06:32.763026",
          "exception": false,
          "start_time": "2022-02-18T14:06:32.703509",
          "status": "completed"
        },
        "tags": [],
        "id": "7fa052cd"
      },
      "source": [
        "#### Oversampling"
      ]
    },
    {
      "cell_type": "markdown",
      "id": "6ab35c51",
      "metadata": {
        "papermill": {
          "duration": 0.05995,
          "end_time": "2022-02-18T14:06:32.886248",
          "exception": false,
          "start_time": "2022-02-18T14:06:32.826298",
          "status": "completed"
        },
        "tags": [],
        "id": "6ab35c51"
      },
      "source": [
        "> **SMOTE - Synthetic Minority Oversampling Technique** is an oversampling technique where the synthetic samples are generated for the minority class. This algorithm helps to overcome the overfitting problem posed by random oversampling."
      ]
    },
    {
      "cell_type": "code",
      "execution_count": 24,
      "id": "d77b8a71",
      "metadata": {
        "execution": {
          "iopub.execute_input": "2022-02-18T14:06:33.130334Z",
          "iopub.status.busy": "2022-02-18T14:06:33.129617Z",
          "iopub.status.idle": "2022-02-18T14:06:33.137978Z",
          "shell.execute_reply": "2022-02-18T14:06:33.138522Z",
          "shell.execute_reply.started": "2022-02-18T13:40:23.933719Z"
        },
        "papermill": {
          "duration": 0.071876,
          "end_time": "2022-02-18T14:06:33.138725",
          "exception": false,
          "start_time": "2022-02-18T14:06:33.066849",
          "status": "completed"
        },
        "tags": [],
        "id": "d77b8a71"
      },
      "outputs": [],
      "source": [
        "training_data=df.copy()\n",
        "x= training_data.drop(['stroke'],axis=1)\n",
        "y= df['stroke']\n",
        "x_train,x_test,y_train,y_test = train_test_split(x,y,test_size=0.2,random_state=42)"
      ]
    },
    {
      "cell_type": "code",
      "execution_count": 25,
      "id": "f3ed2d4b",
      "metadata": {
        "execution": {
          "iopub.execute_input": "2022-02-18T14:06:33.270972Z",
          "iopub.status.busy": "2022-02-18T14:06:33.268515Z",
          "iopub.status.idle": "2022-02-18T14:06:33.285853Z",
          "shell.execute_reply": "2022-02-18T14:06:33.286394Z",
          "shell.execute_reply.started": "2022-02-18T13:40:23.948550Z"
        },
        "papermill": {
          "duration": 0.086357,
          "end_time": "2022-02-18T14:06:33.286615",
          "exception": false,
          "start_time": "2022-02-18T14:06:33.200258",
          "status": "completed"
        },
        "tags": [],
        "id": "f3ed2d4b"
      },
      "outputs": [],
      "source": [
        "sm = SMOTE()\n",
        "x_train, y_train = sm.fit_resample(x_train,y_train)"
      ]
    },
    {
      "cell_type": "markdown",
      "id": "5970652c",
      "metadata": {
        "_kg_hide-input": false,
        "_kg_hide-output": false,
        "papermill": {
          "duration": 0.059625,
          "end_time": "2022-02-18T14:06:33.526503",
          "exception": false,
          "start_time": "2022-02-18T14:06:33.466878",
          "status": "completed"
        },
        "tags": [],
        "id": "5970652c"
      },
      "source": [
        "# Modelling"
      ]
    },
    {
      "cell_type": "code",
      "execution_count": 26,
      "id": "5ea7006c",
      "metadata": {
        "execution": {
          "iopub.execute_input": "2022-02-18T14:06:33.654424Z",
          "iopub.status.busy": "2022-02-18T14:06:33.649832Z",
          "iopub.status.idle": "2022-02-18T14:06:33.726022Z",
          "shell.execute_reply": "2022-02-18T14:06:33.724976Z",
          "shell.execute_reply.started": "2022-02-18T13:40:23.970842Z"
        },
        "papermill": {
          "duration": 0.139161,
          "end_time": "2022-02-18T14:06:33.726287",
          "exception": false,
          "start_time": "2022-02-18T14:06:33.587126",
          "status": "completed"
        },
        "tags": [],
        "colab": {
          "base_uri": "https://localhost:8080/"
        },
        "id": "5ea7006c",
        "outputId": "d0c24993-5c34-4d66-f6d7-c08a90a87121"
      },
      "outputs": [
        {
          "output_type": "execute_result",
          "data": {
            "text/plain": [
              "0.7504892367906066"
            ]
          },
          "metadata": {},
          "execution_count": 26
        }
      ],
      "source": [
        "lr= LogisticRegression()\n",
        "lr.fit(x_train, y_train)\n",
        "lr_pred = lr.predict(x_test)\n",
        "lr_acc = accuracy_score(lr_pred, y_test)\n",
        "lr_f1 = f1_score(lr_pred, y_test)\n",
        "lr_acc"
      ]
    },
    {
      "cell_type": "code",
      "execution_count": 27,
      "id": "41ecffbd",
      "metadata": {
        "execution": {
          "iopub.execute_input": "2022-02-18T14:06:33.907085Z",
          "iopub.status.busy": "2022-02-18T14:06:33.906105Z",
          "iopub.status.idle": "2022-02-18T14:06:33.948882Z",
          "shell.execute_reply": "2022-02-18T14:06:33.948273Z",
          "shell.execute_reply.started": "2022-02-18T13:40:24.047778Z"
        },
        "papermill": {
          "duration": 0.109779,
          "end_time": "2022-02-18T14:06:33.949035",
          "exception": false,
          "start_time": "2022-02-18T14:06:33.839256",
          "status": "completed"
        },
        "tags": [],
        "colab": {
          "base_uri": "https://localhost:8080/"
        },
        "id": "41ecffbd",
        "outputId": "87077ab6-89f6-4909-97d0-a0d77a9860d4"
      },
      "outputs": [
        {
          "output_type": "execute_result",
          "data": {
            "text/plain": [
              "0.8444227005870841"
            ]
          },
          "metadata": {},
          "execution_count": 27
        }
      ],
      "source": [
        "decision_tree = DecisionTreeClassifier()   \n",
        "decision_tree.fit(x_train,y_train)\n",
        "dt_pred = decision_tree.predict(x_test)\n",
        "dt_acc = accuracy_score(dt_pred, y_test)\n",
        "dt_acc"
      ]
    },
    {
      "cell_type": "code",
      "execution_count": 28,
      "id": "e9f795ab",
      "metadata": {
        "execution": {
          "iopub.execute_input": "2022-02-18T14:06:34.074999Z",
          "iopub.status.busy": "2022-02-18T14:06:34.074291Z",
          "iopub.status.idle": "2022-02-18T14:06:34.351177Z",
          "shell.execute_reply": "2022-02-18T14:06:34.351743Z",
          "shell.execute_reply.started": "2022-02-18T13:40:24.147973Z"
        },
        "papermill": {
          "duration": 0.341565,
          "end_time": "2022-02-18T14:06:34.351935",
          "exception": false,
          "start_time": "2022-02-18T14:06:34.010370",
          "status": "completed"
        },
        "tags": [],
        "colab": {
          "base_uri": "https://localhost:8080/"
        },
        "id": "e9f795ab",
        "outputId": "4bcca3cf-c9d1-4b74-cf61-7b6b70b95216"
      },
      "outputs": [
        {
          "output_type": "execute_result",
          "data": {
            "text/plain": [
              "0.8620352250489237"
            ]
          },
          "metadata": {},
          "execution_count": 28
        }
      ],
      "source": [
        "rf = RandomForestClassifier(n_estimators = 25)\n",
        "rf.fit(x_train, y_train)\n",
        "rf_pred = rf.predict(x_test)\n",
        "rf_acc = accuracy_score(rf_pred, y_test)\n",
        "rf_acc"
      ]
    },
    {
      "cell_type": "code",
      "execution_count": 29,
      "id": "3606c4b9",
      "metadata": {
        "execution": {
          "iopub.execute_input": "2022-02-18T14:06:34.482714Z",
          "iopub.status.busy": "2022-02-18T14:06:34.482014Z",
          "iopub.status.idle": "2022-02-18T14:06:35.330983Z",
          "shell.execute_reply": "2022-02-18T14:06:35.330375Z",
          "shell.execute_reply.started": "2022-02-18T13:40:24.430520Z"
        },
        "papermill": {
          "duration": 0.91632,
          "end_time": "2022-02-18T14:06:35.331152",
          "exception": false,
          "start_time": "2022-02-18T14:06:34.414832",
          "status": "completed"
        },
        "tags": [],
        "colab": {
          "base_uri": "https://localhost:8080/"
        },
        "id": "3606c4b9",
        "outputId": "42d48054-05f1-43aa-8377-d37c74b2ee00"
      },
      "outputs": [
        {
          "output_type": "execute_result",
          "data": {
            "text/plain": [
              "0.7818003913894325"
            ]
          },
          "metadata": {},
          "execution_count": 29
        }
      ],
      "source": [
        "xgb = XGBClassifier()\n",
        "xgb.fit(x_train, y_train)\n",
        "xgb_pred = xgb.predict(x_test)\n",
        "xgb_acc = accuracy_score(xgb_pred, y_test)\n",
        "xgb_acc"
      ]
    },
    {
      "cell_type": "code",
      "execution_count": 30,
      "id": "4f3891de",
      "metadata": {
        "execution": {
          "iopub.execute_input": "2022-02-18T14:06:35.466146Z",
          "iopub.status.busy": "2022-02-18T14:06:35.465042Z",
          "iopub.status.idle": "2022-02-18T14:06:35.571494Z",
          "shell.execute_reply": "2022-02-18T14:06:35.570921Z",
          "shell.execute_reply.started": "2022-02-18T13:40:25.272293Z"
        },
        "papermill": {
          "duration": 0.177827,
          "end_time": "2022-02-18T14:06:35.571648",
          "exception": false,
          "start_time": "2022-02-18T14:06:35.393821",
          "status": "completed"
        },
        "tags": [],
        "colab": {
          "base_uri": "https://localhost:8080/"
        },
        "id": "4f3891de",
        "outputId": "0720d705-2a9b-407e-a19f-d30ebb084b77"
      },
      "outputs": [
        {
          "output_type": "execute_result",
          "data": {
            "text/plain": [
              "0.7759295499021527"
            ]
          },
          "metadata": {},
          "execution_count": 30
        }
      ],
      "source": [
        "knn = KNeighborsClassifier()\n",
        "knn.fit(x_train, y_train)\n",
        "knn_pred = knn.predict(x_test)\n",
        "knn_acc = accuracy_score(knn_pred, y_test)\n",
        "knn_acc"
      ]
    },
    {
      "cell_type": "code",
      "execution_count": 31,
      "id": "1e222ce8",
      "metadata": {
        "execution": {
          "iopub.execute_input": "2022-02-18T14:06:35.705880Z",
          "iopub.status.busy": "2022-02-18T14:06:35.704736Z",
          "iopub.status.idle": "2022-02-18T14:06:35.897416Z",
          "shell.execute_reply": "2022-02-18T14:06:35.898082Z",
          "shell.execute_reply.started": "2022-02-18T13:40:25.385782Z"
        },
        "papermill": {
          "duration": 0.262817,
          "end_time": "2022-02-18T14:06:35.898268",
          "exception": false,
          "start_time": "2022-02-18T14:06:35.635451",
          "status": "completed"
        },
        "tags": [],
        "colab": {
          "base_uri": "https://localhost:8080/"
        },
        "id": "1e222ce8",
        "outputId": "25ad4cad-b942-4424-aaa1-bb60ef36d308"
      },
      "outputs": [
        {
          "output_type": "execute_result",
          "data": {
            "text/plain": [
              "0.8894324853228963"
            ]
          },
          "metadata": {},
          "execution_count": 31
        }
      ],
      "source": [
        "lgbm = LGBMClassifier(random_state = 42)\n",
        "lgbm.fit(x_train, y_train)\n",
        "lgbm_pred = lgbm.predict(x_test)\n",
        "lgbm_acc = accuracy_score(lgbm_pred, y_test)\n",
        "lgbm_acc"
      ]
    },
    {
      "cell_type": "code",
      "execution_count": 32,
      "id": "5fb5e2d2",
      "metadata": {
        "execution": {
          "iopub.execute_input": "2022-02-18T14:06:36.030767Z",
          "iopub.status.busy": "2022-02-18T14:06:36.030095Z",
          "iopub.status.idle": "2022-02-18T14:06:37.436218Z",
          "shell.execute_reply": "2022-02-18T14:06:37.436773Z",
          "shell.execute_reply.started": "2022-02-18T13:40:25.571902Z"
        },
        "papermill": {
          "duration": 1.474403,
          "end_time": "2022-02-18T14:06:37.437000",
          "exception": false,
          "start_time": "2022-02-18T14:06:35.962597",
          "status": "completed"
        },
        "tags": [],
        "colab": {
          "base_uri": "https://localhost:8080/"
        },
        "id": "5fb5e2d2",
        "outputId": "f9ddc898-19f5-4ce6-a39c-5a402ea53438"
      },
      "outputs": [
        {
          "output_type": "execute_result",
          "data": {
            "text/plain": [
              "0.7544031311154599"
            ]
          },
          "metadata": {},
          "execution_count": 32
        }
      ],
      "source": [
        "svm=SVC(random_state=42)\n",
        "svm.fit(x_train, y_train)\n",
        "svm_pred = svm.predict(x_test)\n",
        "svm_acc = accuracy_score(svm_pred, y_test)\n",
        "svm_acc"
      ]
    },
    {
      "cell_type": "code",
      "execution_count": 33,
      "id": "fa97b913",
      "metadata": {
        "execution": {
          "iopub.execute_input": "2022-02-18T14:06:37.578206Z",
          "iopub.status.busy": "2022-02-18T14:06:37.568951Z",
          "iopub.status.idle": "2022-02-18T14:06:37.888146Z",
          "shell.execute_reply": "2022-02-18T14:06:37.888679Z",
          "shell.execute_reply.started": "2022-02-18T13:40:26.878693Z"
        },
        "papermill": {
          "duration": 0.388431,
          "end_time": "2022-02-18T14:06:37.888906",
          "exception": false,
          "start_time": "2022-02-18T14:06:37.500475",
          "status": "completed"
        },
        "tags": [],
        "colab": {
          "base_uri": "https://localhost:8080/",
          "height": 420
        },
        "id": "fa97b913",
        "outputId": "5731de19-876d-4d00-dc50-80c7e30ee239"
      },
      "outputs": [
        {
          "output_type": "display_data",
          "data": {
            "text/plain": [
              "<Figure size 864x432 with 1 Axes>"
            ],
            "image/png": "[encoded data removed]"
          },
          "metadata": {}
        }
      ],
      "source": [
        "models_names = [\"LogisticRegression\",'DecisionTreeClassifier','RandomForestClassifier','XGBClassifier',\n",
        "                    'KNeighborsClassifier','LGBMClassifier','SVC']\n",
        "models_acc=[lr_acc,dt_acc,rf_acc,xgb_acc,knn_acc,lgbm_acc,svm_acc]\n",
        "\n",
        "plt.rcParams['figure.figsize']=12,6\n",
        "ax = sns.barplot(x=models_names, y=models_acc, palette = \"mako\", saturation =1.5)\n",
        "plt.xlabel('Classifier Models' )\n",
        "plt.ylabel('Accuracy')\n",
        "plt.title('Accuracy of different Classifier Models')\n",
        "plt.xticks(fontsize = 10, horizontalalignment = 'center', rotation = 8)\n",
        "plt.yticks(fontsize = 10)\n",
        "for i in ax.patches:\n",
        "    width, height = i.get_width(), i.get_height()\n",
        "    x, y = i.get_xy() \n",
        "    ax.annotate(f'{round(height,5)}', (x + width/2, y + height*1.02), ha='center', fontsize = 10)\n",
        "plt.show()"
      ]
    },
    {
      "cell_type": "markdown",
      "id": "7f639fdf",
      "metadata": {
        "_kg_hide-input": false,
        "_kg_hide-output": false,
        "papermill": {
          "duration": 0.064055,
          "end_time": "2022-02-18T14:06:38.145529",
          "exception": false,
          "start_time": "2022-02-18T14:06:38.081474",
          "status": "completed"
        },
        "tags": [],
        "id": "7f639fdf"
      },
      "source": [
        "# Model Tuning"
      ]
    },
    {
      "cell_type": "markdown",
      "id": "ffad3091",
      "metadata": {
        "papermill": {
          "duration": 0.065943,
          "end_time": "2022-02-18T14:06:38.276193",
          "exception": false,
          "start_time": "2022-02-18T14:06:38.210250",
          "status": "completed"
        },
        "tags": [],
        "id": "ffad3091"
      },
      "source": [
        "Hyperparameter tuning is choosing a set of optimal hyperparameters for a learning algorithm. Here we apply model tuning only to XGB  classifier, as it has the highest accuracy so far."
      ]
    },
    {
      "cell_type": "code",
      "execution_count": 47,
      "id": "863112d0",
      "metadata": {
        "_kg_hide-output": true,
        "execution": {
          "iopub.execute_input": "2022-02-18T14:06:38.409784Z",
          "iopub.status.busy": "2022-02-18T14:06:38.409081Z",
          "iopub.status.idle": "2022-02-18T14:14:18.764845Z",
          "shell.execute_reply": "2022-02-18T14:14:18.764254Z",
          "shell.execute_reply.started": "2022-02-18T13:40:27.200735Z"
        },
        "papermill": {
          "duration": 460.423523,
          "end_time": "2022-02-18T14:14:18.765023",
          "exception": false,
          "start_time": "2022-02-18T14:06:38.341500",
          "status": "completed"
        },
        "tags": [],
        "colab": {
          "base_uri": "https://localhost:8080/"
        },
        "id": "863112d0",
        "outputId": "b51319e3-b4b7-4a06-90da-480a2860ec39"
      },
      "outputs": [
        {
          "output_type": "stream",
          "name": "stdout",
          "text": [
            "Fitting 10 folds for each of 96 candidates, totalling 960 fits\n"
          ]
        },
        {
          "output_type": "execute_result",
          "data": {
            "text/plain": [
              "GridSearchCV(cv=10, estimator=XGBClassifier(nthread=1, seed=42), n_jobs=4,\n",
              "             param_grid={'learning_rate': [0.1, 0.01, 0.05],\n",
              "                         'max_depth': range(2, 10),\n",
              "                         'n_estimators': range(60, 220, 40)},\n",
              "             scoring='roc_auc', verbose=3)"
            ]
          },
          "metadata": {},
          "execution_count": 47
        }
      ],
      "source": [
        "from sklearn.model_selection import GridSearchCV\n",
        "estimator = XGBClassifier(\n",
        "    objective= 'binary:logistic',\n",
        "    nthread=1,\n",
        "    seed=42\n",
        ")\n",
        "parameters = {\n",
        "    'max_depth': range (2, 10, 1),\n",
        "    'n_estimators': range(60, 220, 40),\n",
        "    'learning_rate': [0.1, 0.01, 0.05]\n",
        "}\n",
        "grid_search = GridSearchCV(\n",
        "    estimator=estimator,\n",
        "    param_grid=parameters,\n",
        "    scoring = 'roc_auc',\n",
        "    n_jobs = 4,\n",
        "    cv = 10,\n",
        "    verbose=3\n",
        ")\n",
        "grid_search.fit(x_train, y_train)"
      ]
    },
    {
      "cell_type": "code",
      "execution_count": 49,
      "id": "72ccd134",
      "metadata": {
        "_kg_hide-output": false,
        "execution": {
          "iopub.execute_input": "2022-02-18T14:14:18.990065Z",
          "iopub.status.busy": "2022-02-18T14:14:18.989327Z",
          "iopub.status.idle": "2022-02-18T14:14:18.996982Z",
          "shell.execute_reply": "2022-02-18T14:14:18.997475Z",
          "shell.execute_reply.started": "2022-02-18T13:48:28.080621Z"
        },
        "papermill": {
          "duration": 0.122464,
          "end_time": "2022-02-18T14:14:18.997655",
          "exception": false,
          "start_time": "2022-02-18T14:14:18.875191",
          "status": "completed"
        },
        "tags": [],
        "colab": {
          "base_uri": "https://localhost:8080/"
        },
        "id": "72ccd134",
        "outputId": "a9f624b7-e87d-42ab-86e9-1df71e36710a"
      },
      "outputs": [
        {
          "output_type": "execute_result",
          "data": {
            "text/plain": [
              "XGBClassifier(max_depth=9, n_estimators=180, nthread=1, seed=42)"
            ]
          },
          "metadata": {},
          "execution_count": 49
        }
      ],
      "source": [
        "grid_search.best_estimator_"
      ]
    },
    {
      "cell_type": "code",
      "execution_count": 50,
      "id": "0a951b2d",
      "metadata": {
        "execution": {
          "iopub.execute_input": "2022-02-18T14:14:19.221157Z",
          "iopub.status.busy": "2022-02-18T14:14:19.220100Z",
          "iopub.status.idle": "2022-02-18T14:14:19.224779Z",
          "shell.execute_reply": "2022-02-18T14:14:19.224103Z",
          "shell.execute_reply.started": "2022-02-18T13:48:28.094729Z"
        },
        "papermill": {
          "duration": 0.118658,
          "end_time": "2022-02-18T14:14:19.224941",
          "exception": false,
          "start_time": "2022-02-18T14:14:19.106283",
          "status": "completed"
        },
        "tags": [],
        "colab": {
          "base_uri": "https://localhost:8080/"
        },
        "id": "0a951b2d",
        "outputId": "40dcaaa5-13e0-42bf-a628-5aa4b88630ce"
      },
      "outputs": [
        {
          "output_type": "execute_result",
          "data": {
            "text/plain": [
              "0.9943865877712031"
            ]
          },
          "metadata": {},
          "execution_count": 50
        }
      ],
      "source": [
        "grid_search.best_score_"
      ]
    },
    {
      "cell_type": "markdown",
      "id": "5406ac65",
      "metadata": {
        "papermill": {
          "duration": 0.109289,
          "end_time": "2022-02-18T14:14:19.443794",
          "exception": false,
          "start_time": "2022-02-18T14:14:19.334505",
          "status": "completed"
        },
        "tags": [],
        "id": "5406ac65"
      },
      "source": [
        "Using this tuned classifier:"
      ]
    },
    {
      "cell_type": "code",
      "execution_count": 59,
      "id": "e248e1e9",
      "metadata": {
        "execution": {
          "iopub.execute_input": "2022-02-18T14:14:19.665730Z",
          "iopub.status.busy": "2022-02-18T14:14:19.665045Z",
          "iopub.status.idle": "2022-02-18T14:14:21.856556Z",
          "shell.execute_reply": "2022-02-18T14:14:21.856014Z",
          "shell.execute_reply.started": "2022-02-18T14:04:50.134543Z"
        },
        "papermill": {
          "duration": 2.303308,
          "end_time": "2022-02-18T14:14:21.856741",
          "exception": false,
          "start_time": "2022-02-18T14:14:19.553433",
          "status": "completed"
        },
        "tags": [],
        "colab": {
          "base_uri": "https://localhost:8080/"
        },
        "id": "e248e1e9",
        "outputId": "a7347a6c-af0e-4bf1-d8ae-8daf52de5fc1"
      },
      "outputs": [
        {
          "output_type": "execute_result",
          "data": {
            "text/plain": [
              "0.9344422700587084"
            ]
          },
          "metadata": {},
          "execution_count": 59
        }
      ],
      "source": [
        "xgb_tuned=XGBClassifier(colsample_bynode=1, enable_categorical=False,\n",
        "              gamma=0, importance_type=None, gpu_id=1,\n",
        "              interaction_constraints='', max_depth=9,\n",
        "              n_estimators=160, n_jobs=1, nthread=1,\n",
        "              num_parallel_tree=1, random_state=42,\n",
        "              reg_alpha=0, reg_lambda=1, scale_pos_weight=0.2, seed=42,\n",
        "              subsample=1, tree_method='exact', validate_parameters=1,\n",
        "              verbosity=1)\n",
        "\n",
        "xgb_tuned.fit(x_train, y_train)\n",
        "xgb_tpred = xgb_tuned.predict(x_test)\n",
        "xgb_tacc = accuracy_score(xgb_tpred, y_test)\n",
        "xgb_tacc"
      ]
    },
    {
      "cell_type": "markdown",
      "id": "80d55333",
      "metadata": {
        "papermill": {
          "duration": 0.110755,
          "end_time": "2022-02-18T14:14:22.076429",
          "exception": false,
          "start_time": "2022-02-18T14:14:21.965674",
          "status": "completed"
        },
        "tags": [],
        "id": "80d55333"
      },
      "source": [
        "#### Model Evaluation:"
      ]
    },
    {
      "cell_type": "code",
      "execution_count": 60,
      "id": "638fe8a3",
      "metadata": {
        "execution": {
          "iopub.execute_input": "2022-02-18T14:14:22.303233Z",
          "iopub.status.busy": "2022-02-18T14:14:22.302485Z",
          "iopub.status.idle": "2022-02-18T14:14:22.330955Z",
          "shell.execute_reply": "2022-02-18T14:14:22.331801Z",
          "shell.execute_reply.started": "2022-02-18T14:04:54.792606Z"
        },
        "papermill": {
          "duration": 0.145349,
          "end_time": "2022-02-18T14:14:22.332070",
          "exception": false,
          "start_time": "2022-02-18T14:14:22.186721",
          "status": "completed"
        },
        "tags": [],
        "colab": {
          "base_uri": "https://localhost:8080/"
        },
        "id": "638fe8a3",
        "outputId": "5369fdd9-207f-4585-e91a-2e2645463aa2"
      },
      "outputs": [
        {
          "output_type": "stream",
          "name": "stdout",
          "text": [
            "              precision    recall  f1-score   support\n",
            "\n",
            "           0       0.94      0.99      0.97       960\n",
            "           1       0.22      0.03      0.06        62\n",
            "\n",
            "    accuracy                           0.93      1022\n",
            "   macro avg       0.58      0.51      0.51      1022\n",
            "weighted avg       0.90      0.93      0.91      1022\n",
            "\n",
            "ROC AUC score:  0.7690692204301075\n",
            "Accuracy Score:  0.9344422700587084\n"
          ]
        }
      ],
      "source": [
        "from sklearn.metrics import accuracy_score, confusion_matrix, roc_auc_score, precision_score, recall_score, f1_score, roc_curve, plot_roc_curve, auc,classification_report\n",
        "cm = confusion_matrix(y_test, xgb_tpred)\n",
        "xgb_tprob = xgb_tuned.predict_proba(x_test)[:,1]\n",
        "print(classification_report(y_test, xgb_tpred))\n",
        "print('ROC AUC score: ',roc_auc_score(y_test, xgb_tprob))\n",
        "print('Accuracy Score: ',accuracy_score(y_test, xgb_tpred))"
      ]
    },
    {
      "cell_type": "code",
      "execution_count": 61,
      "id": "f771d52a",
      "metadata": {
        "execution": {
          "iopub.execute_input": "2022-02-18T14:14:22.557899Z",
          "iopub.status.busy": "2022-02-18T14:14:22.557167Z",
          "iopub.status.idle": "2022-02-18T14:14:22.821166Z",
          "shell.execute_reply": "2022-02-18T14:14:22.820527Z",
          "shell.execute_reply.started": "2022-02-18T14:05:01.442198Z"
        },
        "papermill": {
          "duration": 0.377739,
          "end_time": "2022-02-18T14:14:22.821333",
          "exception": false,
          "start_time": "2022-02-18T14:14:22.443594",
          "status": "completed"
        },
        "tags": [],
        "colab": {
          "base_uri": "https://localhost:8080/",
          "height": 391
        },
        "id": "f771d52a",
        "outputId": "e5904069-9ac4-44c8-dbbc-4620a50e06bf"
      },
      "outputs": [
        {
          "output_type": "display_data",
          "data": {
            "text/plain": [
              "<Figure size 720x432 with 2 Axes>"
            ],
            "image/png": "[encoded data removed]"
          },
          "metadata": {}
        }
      ],
      "source": [
        "plt.figure(figsize = (10, 6))\n",
        "plt.title('Confusion Matrix', fontsize=14)\n",
        "sns.heatmap(cm, cmap = 'Greens', fmt = 'd',annot = True,annot_kws = {'fontsize': 12}, \n",
        "            yticklabels = ['No stroke', 'Stroke'], xticklabels = ['Predicted no stroke', 'Predicted stroke'])\n",
        "plt.yticks(rotation = 0)\n",
        "plt.show()"
      ]
    },
    {
      "cell_type": "markdown",
      "id": "11fd1497",
      "metadata": {
        "papermill": {
          "duration": 0.11229,
          "end_time": "2022-02-18T14:14:23.045133",
          "exception": false,
          "start_time": "2022-02-18T14:14:22.932843",
          "status": "completed"
        },
        "tags": [],
        "id": "11fd1497"
      },
      "source": [
        "Here we have completed modelling as well as tuning. The accuracy obtained is 93.4 %."
      ]
    },
    {
      "cell_type": "code",
      "source": [
        ""
      ],
      "metadata": {
        "id": "kn4AL2kTBwmo"
      },
      "id": "kn4AL2kTBwmo",
      "execution_count": null,
      "outputs": []
    }
  ],
  "metadata": {
    "kernelspec": {
      "display_name": "Python 3",
      "language": "python",
      "name": "python3"
    },
    "language_info": {
      "codemirror_mode": {
        "name": "ipython",
        "version": 3
      },
      "file_extension": ".py",
      "mimetype": "text/x-python",
      "name": "python",
      "nbconvert_exporter": "python",
      "pygments_lexer": "ipython3",
      "version": "3.7.12"
    },
    "papermill": {
      "default_parameters": {},
      "duration": 491.781976,
      "end_time": "2022-02-18T14:14:24.295005",
      "environment_variables": {},
      "exception": null,
      "input_path": "__notebook__.ipynb",
      "output_path": "__notebook__.ipynb",
      "parameters": {},
      "start_time": "2022-02-18T14:06:12.513029",
      "version": "2.3.3"
    },
    "colab": {
      "name": "StrokePrediction_MLmodels.ipynb",
      "provenance": []
    }
  },
  "nbformat": 4,
  "nbformat_minor": 5
}