{
 "cells": [
  {
   "cell_type": "code",
   "execution_count": 1,
   "metadata": {
    "_cell_guid": "b1076dfc-b9ad-4769-8c92-a6c4dae69d19",
    "_uuid": "8f2839f25d086af736a60e9eeb907d3b93b6e0e5",
    "execution": {
     "iopub.execute_input": "2021-03-18T13:10:48.723992Z",
     "iopub.status.busy": "2021-03-18T13:10:48.723165Z",
     "iopub.status.idle": "2021-03-18T13:10:48.734169Z",
     "shell.execute_reply": "2021-03-18T13:10:48.734775Z"
    },
    "papermill": {
     "duration": 0.034044,
     "end_time": "2021-03-18T13:10:48.735104",
     "exception": false,
     "start_time": "2021-03-18T13:10:48.701060",
     "status": "completed"
    },
    "tags": []
   },
   "outputs": [
    {
     "name": "stdout",
     "output_type": "stream",
     "text": [
      "/kaggle/input/stroke-prediction-dataset/healthcare-dataset-stroke-data.csv\n"
     ]
    }
   ],
   "source": [
    "# This Python 3 environment comes with many helpful analytics libraries installed\n",
    "# It is defined by the kaggle/python Docker image: https://github.com/kaggle/docker-python\n",
    "# For example, here's several helpful packages to load\n",
    "\n",
    "import numpy as np # linear algebra\n",
    "import pandas as pd # data processing, CSV file I/O (e.g. pd.read_csv)\n",
    "\n",
    "# Input data files are available in the read-only \"../input/\" directory\n",
    "# For example, running this (by clicking run or pressing Shift+Enter) will list all files under the input directory\n",
    "\n",
    "import os\n",
    "for dirname, _, filenames in os.walk('/kaggle/input'):\n",
    "    for filename in filenames:\n",
    "        print(os.path.join(dirname, filename))\n",
    "\n",
    "# You can write up to 20GB to the current directory (/kaggle/working/) that gets preserved as output when you create a version using \"Save & Run All\" \n",
    "# You can also write temporary files to /kaggle/temp/, but they won't be saved outside of the current session"
   ]
  },
  {
   "cell_type": "markdown",
   "metadata": {
    "papermill": {
     "duration": 0.01283,
     "end_time": "2021-03-18T13:10:48.762021",
     "exception": false,
     "start_time": "2021-03-18T13:10:48.749191",
     "status": "completed"
    },
    "tags": []
   },
   "source": [
    "# IMPORTING THE DATA"
   ]
  },
  {
   "cell_type": "code",
   "execution_count": 2,
   "metadata": {
    "execution": {
     "iopub.execute_input": "2021-03-18T13:10:48.792113Z",
     "iopub.status.busy": "2021-03-18T13:10:48.791427Z",
     "iopub.status.idle": "2021-03-18T13:10:48.856694Z",
     "shell.execute_reply": "2021-03-18T13:10:48.857214Z"
    },
    "papermill": {
     "duration": 0.082034,
     "end_time": "2021-03-18T13:10:48.857388",
     "exception": false,
     "start_time": "2021-03-18T13:10:48.775354",
     "status": "completed"
    },
    "tags": []
   },
   "outputs": [
    {
     "data": {
      "text/html": [
       "<div>\n",
       "<style scoped>\n",
       "    .dataframe tbody tr th:only-of-type {\n",
       "        vertical-align: middle;\n",
       "    }\n",
       "\n",
       "    .dataframe tbody tr th {\n",
       "        vertical-align: top;\n",
       "    }\n",
       "\n",
       "    .dataframe thead th {\n",
       "        text-align: right;\n",
       "    }\n",
       "</style>\n",
       "<table border=\"1\" class=\"dataframe\">\n",
       "  <thead>\n",
       "    <tr style=\"text-align: right;\">\n",
       "      <th></th>\n",
       "      <th>id</th>\n",
       "      <th>gender</th>\n",
       "      <th>age</th>\n",
       "      <th>hypertension</th>\n",
       "      <th>heart_disease</th>\n",
       "      <th>ever_married</th>\n",
       "      <th>work_type</th>\n",
       "      <th>Residence_type</th>\n",
       "      <th>avg_glucose_level</th>\n",
       "      <th>bmi</th>\n",
       "      <th>smoking_status</th>\n",
       "      <th>stroke</th>\n",
       "    </tr>\n",
       "  </thead>\n",
       "  <tbody>\n",
       "    <tr>\n",
       "      <th>0</th>\n",
       "      <td>9046</td>\n",
       "      <td>Male</td>\n",
       "      <td>67.0</td>\n",
       "      <td>0</td>\n",
       "      <td>1</td>\n",
       "      <td>Yes</td>\n",
       "      <td>Private</td>\n",
       "      <td>Urban</td>\n",
       "      <td>228.69</td>\n",
       "      <td>36.6</td>\n",
       "      <td>formerly smoked</td>\n",
       "      <td>1</td>\n",
       "    </tr>\n",
       "    <tr>\n",
       "      <th>1</th>\n",
       "      <td>51676</td>\n",
       "      <td>Female</td>\n",
       "      <td>61.0</td>\n",
       "      <td>0</td>\n",
       "      <td>0</td>\n",
       "      <td>Yes</td>\n",
       "      <td>Self-employed</td>\n",
       "      <td>Rural</td>\n",
       "      <td>202.21</td>\n",
       "      <td>NaN</td>\n",
       "      <td>never smoked</td>\n",
       "      <td>1</td>\n",
       "    </tr>\n",
       "    <tr>\n",
       "      <th>2</th>\n",
       "      <td>31112</td>\n",
       "      <td>Male</td>\n",
       "      <td>80.0</td>\n",
       "      <td>0</td>\n",
       "      <td>1</td>\n",
       "      <td>Yes</td>\n",
       "      <td>Private</td>\n",
       "      <td>Rural</td>\n",
       "      <td>105.92</td>\n",
       "      <td>32.5</td>\n",
       "      <td>never smoked</td>\n",
       "      <td>1</td>\n",
       "    </tr>\n",
       "    <tr>\n",
       "      <th>3</th>\n",
       "      <td>60182</td>\n",
       "      <td>Female</td>\n",
       "      <td>49.0</td>\n",
       "      <td>0</td>\n",
       "      <td>0</td>\n",
       "      <td>Yes</td>\n",
       "      <td>Private</td>\n",
       "      <td>Urban</td>\n",
       "      <td>171.23</td>\n",
       "      <td>34.4</td>\n",
       "      <td>smokes</td>\n",
       "      <td>1</td>\n",
       "    </tr>\n",
       "    <tr>\n",
       "      <th>4</th>\n",
       "      <td>1665</td>\n",
       "      <td>Female</td>\n",
       "      <td>79.0</td>\n",
       "      <td>1</td>\n",
       "      <td>0</td>\n",
       "      <td>Yes</td>\n",
       "      <td>Self-employed</td>\n",
       "      <td>Rural</td>\n",
       "      <td>174.12</td>\n",
       "      <td>24.0</td>\n",
       "      <td>never smoked</td>\n",
       "      <td>1</td>\n",
       "    </tr>\n",
       "  </tbody>\n",
       "</table>\n",
       "</div>"
      ],
      "text/plain": [
       "      id  gender   age  hypertension  heart_disease ever_married  \\\n",
       "0   9046    Male  67.0             0              1          Yes   \n",
       "1  51676  Female  61.0             0              0          Yes   \n",
       "2  31112    Male  80.0             0              1          Yes   \n",
       "3  60182  Female  49.0             0              0          Yes   \n",
       "4   1665  Female  79.0             1              0          Yes   \n",
       "\n",
       "       work_type Residence_type  avg_glucose_level   bmi   smoking_status  \\\n",
       "0        Private          Urban             228.69  36.6  formerly smoked   \n",
       "1  Self-employed          Rural             202.21   NaN     never smoked   \n",
       "2        Private          Rural             105.92  32.5     never smoked   \n",
       "3        Private          Urban             171.23  34.4           smokes   \n",
       "4  Self-employed          Rural             174.12  24.0     never smoked   \n",
       "\n",
       "   stroke  \n",
       "0       1  \n",
       "1       1  \n",
       "2       1  \n",
       "3       1  \n",
       "4       1  "
      ]
     },
     "execution_count": 2,
     "metadata": {},
     "output_type": "execute_result"
    }
   ],
   "source": [
    "import pandas as pd\n",
    "data=pd.read_csv('/kaggle/input/stroke-prediction-dataset/healthcare-dataset-stroke-data.csv')\n",
    "data.head()"
   ]
  },
  {
   "cell_type": "markdown",
   "metadata": {
    "papermill": {
     "duration": 0.013637,
     "end_time": "2021-03-18T13:10:48.885174",
     "exception": false,
     "start_time": "2021-03-18T13:10:48.871537",
     "status": "completed"
    },
    "tags": []
   },
   "source": [
    "# DROPPING THE NULL VALUES"
   ]
  },
  {
   "cell_type": "code",
   "execution_count": 3,
   "metadata": {
    "execution": {
     "iopub.execute_input": "2021-03-18T13:10:48.923288Z",
     "iopub.status.busy": "2021-03-18T13:10:48.922588Z",
     "iopub.status.idle": "2021-03-18T13:10:48.946916Z",
     "shell.execute_reply": "2021-03-18T13:10:48.946097Z"
    },
    "papermill": {
     "duration": 0.047993,
     "end_time": "2021-03-18T13:10:48.947101",
     "exception": false,
     "start_time": "2021-03-18T13:10:48.899108",
     "status": "completed"
    },
    "tags": []
   },
   "outputs": [
    {
     "data": {
      "text/plain": [
       "Index(['id', 'gender', 'age', 'hypertension', 'heart_disease', 'ever_married',\n",
       "       'work_type', 'Residence_type', 'avg_glucose_level', 'bmi',\n",
       "       'smoking_status', 'stroke'],\n",
       "      dtype='object')"
      ]
     },
     "execution_count": 3,
     "metadata": {},
     "output_type": "execute_result"
    }
   ],
   "source": [
    "data=data.dropna()\n",
    "data.columns"
   ]
  },
  {
   "cell_type": "code",
   "execution_count": 4,
   "metadata": {
    "execution": {
     "iopub.execute_input": "2021-03-18T13:10:48.980867Z",
     "iopub.status.busy": "2021-03-18T13:10:48.980137Z",
     "iopub.status.idle": "2021-03-18T13:10:48.995213Z",
     "shell.execute_reply": "2021-03-18T13:10:48.995790Z"
    },
    "papermill": {
     "duration": 0.034085,
     "end_time": "2021-03-18T13:10:48.995982",
     "exception": false,
     "start_time": "2021-03-18T13:10:48.961897",
     "status": "completed"
    },
    "tags": []
   },
   "outputs": [
    {
     "data": {
      "text/html": [
       "<div>\n",
       "<style scoped>\n",
       "    .dataframe tbody tr th:only-of-type {\n",
       "        vertical-align: middle;\n",
       "    }\n",
       "\n",
       "    .dataframe tbody tr th {\n",
       "        vertical-align: top;\n",
       "    }\n",
       "\n",
       "    .dataframe thead th {\n",
       "        text-align: right;\n",
       "    }\n",
       "</style>\n",
       "<table border=\"1\" class=\"dataframe\">\n",
       "  <thead>\n",
       "    <tr style=\"text-align: right;\">\n",
       "      <th></th>\n",
       "      <th>age</th>\n",
       "      <th>hypertension</th>\n",
       "      <th>heart_disease</th>\n",
       "      <th>avg_glucose_level</th>\n",
       "      <th>bmi</th>\n",
       "      <th>stroke</th>\n",
       "    </tr>\n",
       "  </thead>\n",
       "  <tbody>\n",
       "    <tr>\n",
       "      <th>0</th>\n",
       "      <td>67.0</td>\n",
       "      <td>0</td>\n",
       "      <td>1</td>\n",
       "      <td>228.69</td>\n",
       "      <td>36.6</td>\n",
       "      <td>1</td>\n",
       "    </tr>\n",
       "    <tr>\n",
       "      <th>2</th>\n",
       "      <td>80.0</td>\n",
       "      <td>0</td>\n",
       "      <td>1</td>\n",
       "      <td>105.92</td>\n",
       "      <td>32.5</td>\n",
       "      <td>1</td>\n",
       "    </tr>\n",
       "    <tr>\n",
       "      <th>3</th>\n",
       "      <td>49.0</td>\n",
       "      <td>0</td>\n",
       "      <td>0</td>\n",
       "      <td>171.23</td>\n",
       "      <td>34.4</td>\n",
       "      <td>1</td>\n",
       "    </tr>\n",
       "    <tr>\n",
       "      <th>4</th>\n",
       "      <td>79.0</td>\n",
       "      <td>1</td>\n",
       "      <td>0</td>\n",
       "      <td>174.12</td>\n",
       "      <td>24.0</td>\n",
       "      <td>1</td>\n",
       "    </tr>\n",
       "    <tr>\n",
       "      <th>5</th>\n",
       "      <td>81.0</td>\n",
       "      <td>0</td>\n",
       "      <td>0</td>\n",
       "      <td>186.21</td>\n",
       "      <td>29.0</td>\n",
       "      <td>1</td>\n",
       "    </tr>\n",
       "  </tbody>\n",
       "</table>\n",
       "</div>"
      ],
      "text/plain": [
       "    age  hypertension  heart_disease  avg_glucose_level   bmi  stroke\n",
       "0  67.0             0              1             228.69  36.6       1\n",
       "2  80.0             0              1             105.92  32.5       1\n",
       "3  49.0             0              0             171.23  34.4       1\n",
       "4  79.0             1              0             174.12  24.0       1\n",
       "5  81.0             0              0             186.21  29.0       1"
      ]
     },
     "execution_count": 4,
     "metadata": {},
     "output_type": "execute_result"
    }
   ],
   "source": [
    "df=data[['age', 'hypertension', 'heart_disease', 'avg_glucose_level', 'bmi','stroke']]\n",
    "df.head()"
   ]
  },
  {
   "cell_type": "markdown",
   "metadata": {
    "papermill": {
     "duration": 0.014776,
     "end_time": "2021-03-18T13:10:49.027623",
     "exception": false,
     "start_time": "2021-03-18T13:10:49.012847",
     "status": "completed"
    },
    "tags": []
   },
   "source": [
    "# ENCODING THE NON NUMERICAL COLUMNS"
   ]
  },
  {
   "cell_type": "code",
   "execution_count": 5,
   "metadata": {
    "execution": {
     "iopub.execute_input": "2021-03-18T13:10:49.061736Z",
     "iopub.status.busy": "2021-03-18T13:10:49.060993Z",
     "iopub.status.idle": "2021-03-18T13:10:50.161957Z",
     "shell.execute_reply": "2021-03-18T13:10:50.161294Z"
    },
    "papermill": {
     "duration": 1.11933,
     "end_time": "2021-03-18T13:10:50.162134",
     "exception": false,
     "start_time": "2021-03-18T13:10:49.042804",
     "status": "completed"
    },
    "tags": []
   },
   "outputs": [
    {
     "name": "stderr",
     "output_type": "stream",
     "text": [
      "/opt/conda/lib/python3.7/site-packages/ipykernel_launcher.py:3: SettingWithCopyWarning: \n",
      "A value is trying to be set on a copy of a slice from a DataFrame.\n",
      "Try using .loc[row_indexer,col_indexer] = value instead\n",
      "\n",
      "See the caveats in the documentation: https://pandas.pydata.org/pandas-docs/stable/user_guide/indexing.html#returning-a-view-versus-a-copy\n",
      "  This is separate from the ipykernel package so we can avoid doing imports until\n",
      "/opt/conda/lib/python3.7/site-packages/ipykernel_launcher.py:4: SettingWithCopyWarning: \n",
      "A value is trying to be set on a copy of a slice from a DataFrame.\n",
      "Try using .loc[row_indexer,col_indexer] = value instead\n",
      "\n",
      "See the caveats in the documentation: https://pandas.pydata.org/pandas-docs/stable/user_guide/indexing.html#returning-a-view-versus-a-copy\n",
      "  after removing the cwd from sys.path.\n",
      "/opt/conda/lib/python3.7/site-packages/ipykernel_launcher.py:5: SettingWithCopyWarning: \n",
      "A value is trying to be set on a copy of a slice from a DataFrame.\n",
      "Try using .loc[row_indexer,col_indexer] = value instead\n",
      "\n",
      "See the caveats in the documentation: https://pandas.pydata.org/pandas-docs/stable/user_guide/indexing.html#returning-a-view-versus-a-copy\n",
      "  \"\"\"\n",
      "/opt/conda/lib/python3.7/site-packages/ipykernel_launcher.py:6: SettingWithCopyWarning: \n",
      "A value is trying to be set on a copy of a slice from a DataFrame.\n",
      "Try using .loc[row_indexer,col_indexer] = value instead\n",
      "\n",
      "See the caveats in the documentation: https://pandas.pydata.org/pandas-docs/stable/user_guide/indexing.html#returning-a-view-versus-a-copy\n",
      "  \n",
      "/opt/conda/lib/python3.7/site-packages/ipykernel_launcher.py:7: SettingWithCopyWarning: \n",
      "A value is trying to be set on a copy of a slice from a DataFrame.\n",
      "Try using .loc[row_indexer,col_indexer] = value instead\n",
      "\n",
      "See the caveats in the documentation: https://pandas.pydata.org/pandas-docs/stable/user_guide/indexing.html#returning-a-view-versus-a-copy\n",
      "  import sys\n"
     ]
    },
    {
     "data": {
      "text/html": [
       "<div>\n",
       "<style scoped>\n",
       "    .dataframe tbody tr th:only-of-type {\n",
       "        vertical-align: middle;\n",
       "    }\n",
       "\n",
       "    .dataframe tbody tr th {\n",
       "        vertical-align: top;\n",
       "    }\n",
       "\n",
       "    .dataframe thead th {\n",
       "        text-align: right;\n",
       "    }\n",
       "</style>\n",
       "<table border=\"1\" class=\"dataframe\">\n",
       "  <thead>\n",
       "    <tr style=\"text-align: right;\">\n",
       "      <th></th>\n",
       "      <th>age</th>\n",
       "      <th>hypertension</th>\n",
       "      <th>heart_disease</th>\n",
       "      <th>avg_glucose_level</th>\n",
       "      <th>bmi</th>\n",
       "      <th>stroke</th>\n",
       "      <th>gender</th>\n",
       "      <th>ever_married</th>\n",
       "      <th>work_type</th>\n",
       "      <th>Residence_type</th>\n",
       "      <th>smoking_status</th>\n",
       "    </tr>\n",
       "  </thead>\n",
       "  <tbody>\n",
       "    <tr>\n",
       "      <th>0</th>\n",
       "      <td>67.0</td>\n",
       "      <td>0</td>\n",
       "      <td>1</td>\n",
       "      <td>228.69</td>\n",
       "      <td>36.6</td>\n",
       "      <td>1</td>\n",
       "      <td>1</td>\n",
       "      <td>1</td>\n",
       "      <td>2</td>\n",
       "      <td>1</td>\n",
       "      <td>1</td>\n",
       "    </tr>\n",
       "    <tr>\n",
       "      <th>2</th>\n",
       "      <td>80.0</td>\n",
       "      <td>0</td>\n",
       "      <td>1</td>\n",
       "      <td>105.92</td>\n",
       "      <td>32.5</td>\n",
       "      <td>1</td>\n",
       "      <td>1</td>\n",
       "      <td>1</td>\n",
       "      <td>2</td>\n",
       "      <td>0</td>\n",
       "      <td>2</td>\n",
       "    </tr>\n",
       "    <tr>\n",
       "      <th>3</th>\n",
       "      <td>49.0</td>\n",
       "      <td>0</td>\n",
       "      <td>0</td>\n",
       "      <td>171.23</td>\n",
       "      <td>34.4</td>\n",
       "      <td>1</td>\n",
       "      <td>0</td>\n",
       "      <td>1</td>\n",
       "      <td>2</td>\n",
       "      <td>1</td>\n",
       "      <td>3</td>\n",
       "    </tr>\n",
       "    <tr>\n",
       "      <th>4</th>\n",
       "      <td>79.0</td>\n",
       "      <td>1</td>\n",
       "      <td>0</td>\n",
       "      <td>174.12</td>\n",
       "      <td>24.0</td>\n",
       "      <td>1</td>\n",
       "      <td>0</td>\n",
       "      <td>1</td>\n",
       "      <td>3</td>\n",
       "      <td>0</td>\n",
       "      <td>2</td>\n",
       "    </tr>\n",
       "    <tr>\n",
       "      <th>5</th>\n",
       "      <td>81.0</td>\n",
       "      <td>0</td>\n",
       "      <td>0</td>\n",
       "      <td>186.21</td>\n",
       "      <td>29.0</td>\n",
       "      <td>1</td>\n",
       "      <td>1</td>\n",
       "      <td>1</td>\n",
       "      <td>2</td>\n",
       "      <td>1</td>\n",
       "      <td>1</td>\n",
       "    </tr>\n",
       "  </tbody>\n",
       "</table>\n",
       "</div>"
      ],
      "text/plain": [
       "    age  hypertension  heart_disease  avg_glucose_level   bmi  stroke  gender  \\\n",
       "0  67.0             0              1             228.69  36.6       1       1   \n",
       "2  80.0             0              1             105.92  32.5       1       1   \n",
       "3  49.0             0              0             171.23  34.4       1       0   \n",
       "4  79.0             1              0             174.12  24.0       1       0   \n",
       "5  81.0             0              0             186.21  29.0       1       1   \n",
       "\n",
       "   ever_married  work_type  Residence_type  smoking_status  \n",
       "0             1          2               1               1  \n",
       "2             1          2               0               2  \n",
       "3             1          2               1               3  \n",
       "4             1          3               0               2  \n",
       "5             1          2               1               1  "
      ]
     },
     "execution_count": 5,
     "metadata": {},
     "output_type": "execute_result"
    }
   ],
   "source": [
    "from sklearn.preprocessing import LabelEncoder\n",
    "le=LabelEncoder()\n",
    "df['gender']=le.fit_transform(data['gender'])\n",
    "df['ever_married']=le.fit_transform(data['ever_married'])\n",
    "df['work_type']=le.fit_transform(data['work_type'])\n",
    "df['Residence_type']=le.fit_transform(data['Residence_type'])\n",
    "df['smoking_status']=le.fit_transform(data['smoking_status'])\n",
    "df.head()"
   ]
  },
  {
   "cell_type": "code",
   "execution_count": 6,
   "metadata": {
    "execution": {
     "iopub.execute_input": "2021-03-18T13:10:50.201467Z",
     "iopub.status.busy": "2021-03-18T13:10:50.200717Z",
     "iopub.status.idle": "2021-03-18T13:10:50.205258Z",
     "shell.execute_reply": "2021-03-18T13:10:50.204645Z"
    },
    "papermill": {
     "duration": 0.026589,
     "end_time": "2021-03-18T13:10:50.205399",
     "exception": false,
     "start_time": "2021-03-18T13:10:50.178810",
     "status": "completed"
    },
    "tags": []
   },
   "outputs": [
    {
     "data": {
      "text/plain": [
       "((4909, 12), (4909, 11))"
      ]
     },
     "execution_count": 6,
     "metadata": {},
     "output_type": "execute_result"
    }
   ],
   "source": [
    "data.shape,df.shape"
   ]
  },
  {
   "cell_type": "code",
   "execution_count": 7,
   "metadata": {
    "execution": {
     "iopub.execute_input": "2021-03-18T13:10:50.245048Z",
     "iopub.status.busy": "2021-03-18T13:10:50.244325Z",
     "iopub.status.idle": "2021-03-18T13:10:50.250755Z",
     "shell.execute_reply": "2021-03-18T13:10:50.251396Z"
    },
    "papermill": {
     "duration": 0.029424,
     "end_time": "2021-03-18T13:10:50.251600",
     "exception": false,
     "start_time": "2021-03-18T13:10:50.222176",
     "status": "completed"
    },
    "tags": []
   },
   "outputs": [
    {
     "data": {
      "text/plain": [
       "((4909, 10), (4909,))"
      ]
     },
     "execution_count": 7,
     "metadata": {},
     "output_type": "execute_result"
    }
   ],
   "source": [
    "y=df['stroke']\n",
    "x=df.drop('stroke',axis=1)\n",
    "x.shape,y.shape"
   ]
  },
  {
   "cell_type": "markdown",
   "metadata": {
    "papermill": {
     "duration": 0.016781,
     "end_time": "2021-03-18T13:10:50.285393",
     "exception": false,
     "start_time": "2021-03-18T13:10:50.268612",
     "status": "completed"
    },
    "tags": []
   },
   "source": [
    "# PLOTTING THE COUNTS OF STROKE"
   ]
  },
  {
   "cell_type": "code",
   "execution_count": 8,
   "metadata": {
    "execution": {
     "iopub.execute_input": "2021-03-18T13:10:50.323067Z",
     "iopub.status.busy": "2021-03-18T13:10:50.322387Z",
     "iopub.status.idle": "2021-03-18T13:10:50.679314Z",
     "shell.execute_reply": "2021-03-18T13:10:50.678804Z"
    },
    "papermill": {
     "duration": 0.376959,
     "end_time": "2021-03-18T13:10:50.679488",
     "exception": false,
     "start_time": "2021-03-18T13:10:50.302529",
     "status": "completed"
    },
    "tags": []
   },
   "outputs": [
    {
     "name": "stderr",
     "output_type": "stream",
     "text": [
      "/opt/conda/lib/python3.7/site-packages/seaborn/_decorators.py:43: FutureWarning: Pass the following variable as a keyword arg: x. From version 0.12, the only valid positional argument will be `data`, and passing other arguments without an explicit keyword will result in an error or misinterpretation.\n",
      "  FutureWarning\n"
     ]
    },
    {
     "data": {
      "text/plain": [
       "Text(0.5, 1.0, 'COUNT PLOT')"
      ]
     },
     "execution_count": 8,
     "metadata": {},
     "output_type": "execute_result"
    },
    {
     "data": {
      "image/png": "[encoded data removed]",
      "text/plain": [
       "<Figure size 432x288 with 1 Axes>"
      ]
     },
     "metadata": {
      "needs_background": "light"
     },
     "output_type": "display_data"
    }
   ],
   "source": [
    "import seaborn as sns\n",
    "import matplotlib.pyplot as plt\n",
    "sns.countplot(y)\n",
    "plt.xticks([0,1],['NO','YES'])\n",
    "plt.title('COUNT PLOT')"
   ]
  },
  {
   "cell_type": "markdown",
   "metadata": {
    "papermill": {
     "duration": 0.018011,
     "end_time": "2021-03-18T13:10:50.716475",
     "exception": false,
     "start_time": "2021-03-18T13:10:50.698464",
     "status": "completed"
    },
    "tags": []
   },
   "source": [
    "# SPLITTING THE DATA INTO TRAINING AND TESTING DATA"
   ]
  },
  {
   "cell_type": "code",
   "execution_count": 9,
   "metadata": {
    "execution": {
     "iopub.execute_input": "2021-03-18T13:10:50.758951Z",
     "iopub.status.busy": "2021-03-18T13:10:50.758227Z",
     "iopub.status.idle": "2021-03-18T13:10:50.835795Z",
     "shell.execute_reply": "2021-03-18T13:10:50.835065Z"
    },
    "papermill": {
     "duration": 0.10121,
     "end_time": "2021-03-18T13:10:50.835946",
     "exception": false,
     "start_time": "2021-03-18T13:10:50.734736",
     "status": "completed"
    },
    "tags": []
   },
   "outputs": [],
   "source": [
    "from sklearn.model_selection import train_test_split as tts\n",
    "x_train,x_test,y_train,y_test=tts(x,y,test_size=0.2)"
   ]
  },
  {
   "cell_type": "markdown",
   "metadata": {
    "papermill": {
     "duration": 0.01821,
     "end_time": "2021-03-18T13:10:50.872865",
     "exception": false,
     "start_time": "2021-03-18T13:10:50.854655",
     "status": "completed"
    },
    "tags": []
   },
   "source": [
    "# CREATING ARTIFICIAL NEURAL NETWORK MODEL[ANN]"
   ]
  },
  {
   "cell_type": "code",
   "execution_count": 10,
   "metadata": {
    "execution": {
     "iopub.execute_input": "2021-03-18T13:10:50.915544Z",
     "iopub.status.busy": "2021-03-18T13:10:50.914872Z",
     "iopub.status.idle": "2021-03-18T13:10:56.792073Z",
     "shell.execute_reply": "2021-03-18T13:10:56.792644Z"
    },
    "papermill": {
     "duration": 5.901466,
     "end_time": "2021-03-18T13:10:56.792846",
     "exception": false,
     "start_time": "2021-03-18T13:10:50.891380",
     "status": "completed"
    },
    "tags": []
   },
   "outputs": [],
   "source": [
    "import tensorflow as tf"
   ]
  },
  {
   "cell_type": "code",
   "execution_count": 11,
   "metadata": {
    "execution": {
     "iopub.execute_input": "2021-03-18T13:10:56.834321Z",
     "iopub.status.busy": "2021-03-18T13:10:56.833560Z",
     "iopub.status.idle": "2021-03-18T13:10:56.897748Z",
     "shell.execute_reply": "2021-03-18T13:10:56.898235Z"
    },
    "papermill": {
     "duration": 0.08658,
     "end_time": "2021-03-18T13:10:56.898457",
     "exception": false,
     "start_time": "2021-03-18T13:10:56.811877",
     "status": "completed"
    },
    "tags": []
   },
   "outputs": [],
   "source": [
    "ann=tf.keras.Sequential()\n",
    "\n",
    "ann.add(tf.keras.layers.Dense(units=25,activation='relu'))\n",
    "\n",
    "ann.add(tf.keras.layers.Dense(units=25,activation='relu'))\n",
    "\n",
    "ann.add(tf.keras.layers.Dense(units=1,activation='sigmoid'))\n",
    "\n",
    "ann.compile('adam','binary_crossentropy',metrics=['accuracy'])"
   ]
  },
  {
   "cell_type": "markdown",
   "metadata": {
    "papermill": {
     "duration": 0.018544,
     "end_time": "2021-03-18T13:10:56.936053",
     "exception": false,
     "start_time": "2021-03-18T13:10:56.917509",
     "status": "completed"
    },
    "tags": []
   },
   "source": [
    "# TRAINING ANN MODEL"
   ]
  },
  {
   "cell_type": "code",
   "execution_count": 12,
   "metadata": {
    "execution": {
     "iopub.execute_input": "2021-03-18T13:10:56.978614Z",
     "iopub.status.busy": "2021-03-18T13:10:56.977938Z",
     "iopub.status.idle": "2021-03-18T13:10:59.462528Z",
     "shell.execute_reply": "2021-03-18T13:10:59.463231Z"
    },
    "papermill": {
     "duration": 2.507491,
     "end_time": "2021-03-18T13:10:59.463437",
     "exception": false,
     "start_time": "2021-03-18T13:10:56.955946",
     "status": "completed"
    },
    "tags": []
   },
   "outputs": [
    {
     "name": "stdout",
     "output_type": "stream",
     "text": [
      "Epoch 1/10\n",
      "123/123 [==============================] - 1s 1ms/step - loss: 0.9974 - accuracy: 0.8068\n",
      "Epoch 2/10\n",
      "123/123 [==============================] - 0s 1ms/step - loss: 0.1950 - accuracy: 0.9593\n",
      "Epoch 3/10\n",
      "123/123 [==============================] - 0s 1ms/step - loss: 0.1775 - accuracy: 0.9599\n",
      "Epoch 4/10\n",
      "123/123 [==============================] - 0s 1ms/step - loss: 0.1777 - accuracy: 0.9565\n",
      "Epoch 5/10\n",
      "123/123 [==============================] - 0s 1ms/step - loss: 0.1684 - accuracy: 0.9604\n",
      "Epoch 6/10\n",
      "123/123 [==============================] - 0s 1ms/step - loss: 0.1729 - accuracy: 0.9561\n",
      "Epoch 7/10\n",
      "123/123 [==============================] - 0s 1ms/step - loss: 0.1680 - accuracy: 0.9598\n",
      "Epoch 8/10\n",
      "123/123 [==============================] - 0s 1ms/step - loss: 0.1736 - accuracy: 0.9552\n",
      "Epoch 9/10\n",
      "123/123 [==============================] - 0s 1ms/step - loss: 0.1875 - accuracy: 0.9509\n",
      "Epoch 10/10\n",
      "123/123 [==============================] - 0s 1ms/step - loss: 0.1659 - accuracy: 0.9555\n"
     ]
    }
   ],
   "source": [
    "result=ann.fit(x_train,y_train,epochs=10)"
   ]
  },
  {
   "cell_type": "markdown",
   "metadata": {
    "papermill": {
     "duration": 0.034167,
     "end_time": "2021-03-18T13:10:59.533767",
     "exception": false,
     "start_time": "2021-03-18T13:10:59.499600",
     "status": "completed"
    },
    "tags": []
   },
   "source": [
    "# CREATING CONFUSION MATRIX FOR THE ACTUAL AND PREDICTED VALUE"
   ]
  },
  {
   "cell_type": "code",
   "execution_count": 13,
   "metadata": {
    "execution": {
     "iopub.execute_input": "2021-03-18T13:10:59.609438Z",
     "iopub.status.busy": "2021-03-18T13:10:59.608743Z",
     "iopub.status.idle": "2021-03-18T13:10:59.755134Z",
     "shell.execute_reply": "2021-03-18T13:10:59.754302Z"
    },
    "papermill": {
     "duration": 0.186912,
     "end_time": "2021-03-18T13:10:59.755308",
     "exception": false,
     "start_time": "2021-03-18T13:10:59.568396",
     "status": "completed"
    },
    "tags": []
   },
   "outputs": [
    {
     "data": {
      "text/plain": [
       "array([[936,   0],\n",
       "       [ 46,   0]])"
      ]
     },
     "execution_count": 13,
     "metadata": {},
     "output_type": "execute_result"
    }
   ],
   "source": [
    "from sklearn.metrics import confusion_matrix\n",
    "y_pred=[]\n",
    "for i in ann.predict(x_test):\n",
    "    if i>0.5:\n",
    "        y_pred.append(1)\n",
    "    if i<0.5:\n",
    "        y_pred.append(0)\n",
    "confusion_matrix(y_test,y_pred)"
   ]
  },
  {
   "cell_type": "markdown",
   "metadata": {
    "papermill": {
     "duration": 0.03455,
     "end_time": "2021-03-18T13:10:59.826154",
     "exception": false,
     "start_time": "2021-03-18T13:10:59.791604",
     "status": "completed"
    },
    "tags": []
   },
   "source": [
    "# ACCURACY SCORE FOR TESTING DATA"
   ]
  },
  {
   "cell_type": "code",
   "execution_count": 14,
   "metadata": {
    "execution": {
     "iopub.execute_input": "2021-03-18T13:10:59.903847Z",
     "iopub.status.busy": "2021-03-18T13:10:59.903169Z",
     "iopub.status.idle": "2021-03-18T13:10:59.907427Z",
     "shell.execute_reply": "2021-03-18T13:10:59.907887Z"
    },
    "papermill": {
     "duration": 0.047193,
     "end_time": "2021-03-18T13:10:59.908078",
     "exception": false,
     "start_time": "2021-03-18T13:10:59.860885",
     "status": "completed"
    },
    "tags": []
   },
   "outputs": [
    {
     "data": {
      "text/plain": [
       "0.9531568228105907"
      ]
     },
     "execution_count": 14,
     "metadata": {},
     "output_type": "execute_result"
    }
   ],
   "source": [
    "from sklearn.metrics import accuracy_score\n",
    "accuracy=accuracy_score(y_test,y_pred)\n",
    "accuracy"
   ]
  }
 ],
 "metadata": {
  "kernelspec": {
   "display_name": "Python 3",
   "language": "python",
   "name": "python3"
  },
  "language_info": {
   "codemirror_mode": {
    "name": "ipython",
    "version": 3
   },
   "file_extension": ".py",
   "mimetype": "text/x-python",
   "name": "python",
   "nbconvert_exporter": "python",
   "pygments_lexer": "ipython3",
   "version": "3.7.9"
  },
  "papermill": {
   "default_parameters": {},
   "duration": 18.838901,
   "end_time": "2021-03-18T13:11:01.057900",
   "environment_variables": {},
   "exception": null,
   "input_path": "__notebook__.ipynb",
   "output_path": "__notebook__.ipynb",
   "parameters": {},
   "start_time": "2021-03-18T13:10:42.218999",
   "version": "2.2.2"
  }
 },
 "nbformat": 4,
 "nbformat_minor": 4
}
